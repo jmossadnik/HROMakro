{
 "cells": [
  {
   "cell_type": "markdown",
   "metadata": {
    "slideshow": {
     "slide_type": "slide"
    }
   },
   "source": [
    "<h1><center>Labor Economics</center></h1>"
   ]
  },
  {
   "cell_type": "markdown",
   "metadata": {},
   "source": [
    "## <a name='content'>Content</a>\n",
    "- **[Proper subsampling](#subsamp)**\n",
    "<br><br>\n",
    "- **[Homework 1](#homework1): Get the data**\n",
    "- **[Homework 2](#homework2): Linkage validation**\n",
    "<br>\n",
    "<br>\n",
    "- **Task 1: First glance at subpopulations**\n",
    "    - **[1.1](#task1.1)**\n",
    "    - **[1.2](#task1.2)**\n",
    "    - **[1.3](#task1.3)**\n",
    "    - **[1.4](#task1.4)**\n",
    "    - **1.5** *skipped*\n",
    "    - **[1.6](#task1.6)**\n",
    "<br>\n",
    "<br>\n",
    "- **[Task 2](#task2): Descriptive Statistics**\n",
    "    - **[2.1](#task2.1)**\n",
    "    - **[2.2](#task2.2)**\n",
    "    - **[2.3](#task2.3)**\n",
    "    - **[2.4](#task2.4)**\n",
    "<br>\n",
    "<br>\n",
    "- **Task 3: Visualisation of employment flows**\n",
    "    - **[3.1](#task3.1)**\n",
    "    - **[3.2](#task3.2)**\n",
    "<br>\n",
    "<br>\n",
    "- **Task 4: The effect of minimum wage increase on labour supply (Difference-in-Difference)**\n",
    "    - **[4.1](#task4.1)**\n",
    "    - **[4.2](#task4.2)**\n",
    "<br>\n",
    "<br>\n",
    "- **Task 5: Duration of unemployment benefits and its effect on unemployment (Regression Discontinuity)**\n",
    "    - **[5.1](#task5.1)**\n",
    "    - **[5.2](#task5.2)**\n",
    "    - **[5.3](#task5.3)**\n",
    "    \n",
    "\n"
   ]
  },
  {
   "cell_type": "markdown",
   "metadata": {
    "slideshow": {
     "slide_type": "slide"
    }
   },
   "source": [
    "### Exam\n",
    "- project work:\n",
    "    - by yourself or in a group\n",
    "    - presentation at the end of the term\n",
    "    - brief written summary of your work, 3-5 pages\n",
    "    \n",
    "### Exercise class\n",
    "- biweekly\n",
    "- working on data\n",
    "- small exercises\n",
    "- working on your own project"
   ]
  },
  {
   "cell_type": "markdown",
   "metadata": {
    "slideshow": {
     "slide_type": "subslide"
    }
   },
   "source": [
    "### Tools\n",
    "- Stata\n",
    "<br>Feel free to use any code you like for your own analysis (R, SAS, Stata, Python, ...). However, since we had to decide\n",
    "on a tool to be used in this class, I am going to work with Stata.\n",
    "\n",
    "### Data\n",
    "- Current Population Survey (U.S.)\n",
    "- CPS-Supplements"
   ]
  },
  {
   "cell_type": "markdown",
   "metadata": {
    "slideshow": {
     "slide_type": "slide"
    }
   },
   "source": [
    "## Stata\n",
    "\n",
    "<b>getting started</b>\n",
    "-   https://ell.stackexchange.com/questions/91623/difference-between-by-and-via <br>List of helpful links for beggining to work with stata <br>\n",
    "\n",
    "- https://www.stata.com/features/ <br>List of features in Stata <br>\n",
    "\n",
    "- vast amount of literature and tutorials available online <br>\n",
    "\n",
    "\n"
   ]
  },
  {
   "cell_type": "markdown",
   "metadata": {
    "slideshow": {
     "slide_type": "slide"
    }
   },
   "source": [
    "## Current Population Survey\n",
    "\n",
    "- <a href=\"https://www.census.gov/programs-surveys/cps.html\">cps homepage</a>\n",
    "- started in 1940, open data, free access\n",
    "- monthly survey of ~ 60.000 U.S. households\n",
    "- participants: over 15 years old, not part of the armed forces, not working in institutions such as prisons, long-term care hospitals and nursing homes\n",
    "- conducted by United States Census Bureau, commissioned by Bureau of Labor Statistics\n",
    "- questionnaire covers demographic and economic (especially labor force) topics"
   ]
  },
  {
   "cell_type": "markdown",
   "metadata": {
    "slideshow": {
     "slide_type": "subslide"
    }
   },
   "source": [
    "- expanded by regular (at least yearly) supplements, such as\n",
    "    - Social and Economic Supplement\n",
    "    - Computer and Internet Use\n",
    "    - Tobacco Use\n",
    "    - Civic Engagement\n",
    "    - ...\n",
    "    \n",
    "(complete list of supplements: <a href = https://www.census.gov/programs-surveys/cps/about/supplemental-surveys.html>LINK</a>)"
   ]
  },
  {
   "cell_type": "markdown",
   "metadata": {
    "slideshow": {
     "slide_type": "subslide"
    }
   },
   "source": [
    "- process of data collection (monthly data):\n",
    "    - households are interviewed in the week of the 19th of a month\n",
    "    - revisited for three following months\n",
    "    - revisited again in the next year and the very same four months\n",
    "    \n",
    "<center><b>4-8-4 pattern</b></center>"
   ]
  },
  {
   "cell_type": "markdown",
   "metadata": {
    "slideshow": {
     "slide_type": "slide"
    }
   },
   "source": [
    "## IPUMS\n",
    "\n",
    "- problem: CPS solely assigns unique identifiers to households, not to individuals\n",
    "    - i.e. the same household is revisited seven times - regardless of which family or individual answers the door\n",
    "- longitudinal research on an individual level complicated, but not impossible"
   ]
  },
  {
   "cell_type": "markdown",
   "metadata": {
    "slideshow": {
     "slide_type": "subslide"
    }
   },
   "source": [
    "- linking items via matching making use of variables such as household identifier, line number within household and demographic characteristics (e.g. sex, age, race) <br>\n",
    "    - <i>Drew, J.A., Flood, S. and Warren, J.R. (2014) \"Making full use of the longitudinal design of the Current Population Survey:\n",
    "    Methods for linking records across 16 months\", Journal of Economic and Social Measurement, 39, pp. 121-144. <br> DOI 10.3233/JEM-140388</i>\n",
    "\n",
    "- accordingly prepared microdata available in the <b>Integrated Public Use Microdata Series (IPUMS-CPS)</b> <a href=\"https://cps.ipums.org/cps/\">LINK</a>"
   ]
  },
  {
   "cell_type": "markdown",
   "metadata": {
    "slideshow": {
     "slide_type": "slide"
    }
   },
   "source": [
    "<a name='homework1'></a>\n",
    "## <span style=\"color:orange\">[Homework 1](#content)</span>\n",
    "\n",
    "Visit https://cps.ipums.org/cps/ and create an account. Register with any valid e-mail adress, preferably your uni-mail adress. Select all the variables and samples potentially relevant to your project.\n",
    "Use the desciprtion of the variables to decide which to include in your extract. Try to minimise the number of variables in your extract.\n",
    "Submit your request. It may take some time for your extract to be prepared and ready for download. The download link will be provided to you via e-mail once the data is processed.\n",
    "\n",
    "Hint #1: If you already stumbled upon research papers dealing with questions similar to your project and working with CPS-data, you may include the author's choice of variables in your set as well.\n",
    "\n",
    "Hint #2: take your time. This task is not trivial. Your work depends on the data at hand. Carefully chosen variables suited for answering a particular question facilitate your research."
   ]
  },
  {
   "cell_type": "markdown",
   "metadata": {
    "slideshow": {
     "slide_type": "subslide"
    }
   },
   "source": [
    "- We confine our analysis to the years 2000 - 2019\n",
    "- Choose your variables wisely: The number of variables inflates the size of the data set. E.g. 80 variables across monthly data between 2000 and 2019 constitute more than 7 gb of data\n",
    "- adding supplements you receive data sets as large as 50 gb and more\n",
    "- the bigger your extract,\n",
    "    - the more time it takes the IPUMS server to process your request (from several hours to possibly several days)\n",
    "    - the more time it takes you to download it\n",
    "    - the more time and processing power is required to modify and analyse the data\n",
    "- Good practice: Select cases to reduce the size, drop redundant variables (e.g. recodes), do not include every supplement (since for most individuals in the monthly survey the values are blank anyway)\n"
   ]
  },
  {
   "cell_type": "markdown",
   "metadata": {
    "slideshow": {
     "slide_type": "slide"
    }
   },
   "source": [
    "<a name='homework2'></a>\n",
    "## <span style=\"color:orange\">[Homework 2](#content)</span>\n",
    "\n",
    "Validate the CPSID linkages following the hints in the description of the variable. (<a href=\"https://cps.ipums.org/cps-action/variables/cpsidp#description_section\">LINK</a> to description)\n",
    "\n",
    "It is recommended to verify the linkages by checking the consistency of the variables AGE, RACE and SEX.\n",
    "For a linkage to be valid, a CPSID should have a unique gender and race. Though age is not a static variable, it should be in a certain range for the survey lifetime of an individual, i.e. between $AGE_{i, t=1} = AGE_{i, t=0} + d$ with $d \\in [0, 2]$.\n",
    "\n",
    "Hint: This is not an easy task to do. You might come up with an own approach outside of Stata, you might be able to write proper code in Stata. Fortunately we can find a proper do-file for that <a href=\"https://cps.ipums.org/cps/resources/workshop_materials/validate_long.txt\">here</a>."
   ]
  },
  {
   "cell_type": "markdown",
   "metadata": {
    "slideshow": {
     "slide_type": "subslide"
    }
   },
   "source": [
    "We are going to modify the do-file a little bit. <br>\n",
    "Problem:\n",
    "\n",
    "\n",
    ">/*Create an \"all match\" variable*/ <br>\n",
    ">gen all_match = (age_total_match=='expected_obs' & sex_total_match=='expected_obs' & race_total_match=='expected_obs')<br>\n",
    ">count if all_match==1"
   ]
  },
  {
   "cell_type": "markdown",
   "metadata": {},
   "source": [
    "You have to specify the number of observations you expect an individual to occur in the survey. I.e. if you expect a person to participate in all 8 interviews of the survey, your command will look like this:\n",
    "\n",
    ">do validate_long.txt 8\n",
    "\n",
    "A linkage will then be considered sound if the number of matches equals 8. But what about dropouts? If individuals  participated for less than 8 interviews, they will be dismissed by this check - even if their answers were consistent for all interviews. <br>\n",
    "It may be a good idea to keep those items as well."
   ]
  },
  {
   "cell_type": "markdown",
   "metadata": {
    "slideshow": {
     "slide_type": "subslide"
    }
   },
   "source": [
    "Counting the number of times an individual was interviewed:\n",
    "\n",
    "> egen tag = tag(cpsid mish)<br>\n",
    "> egen obs = total(tag), by(cpsid)\n",
    "\n",
    "Insert new variable into do-file and replace every occurence of `expected_obs` by `obs`.<br>"
   ]
  },
  {
   "cell_type": "markdown",
   "metadata": {},
   "source": [
    "Now we have a data set with a higher quality of linkages, increased consistency and we are able to tell how often an individual was interviewed.<br>\n",
    "Eventually, we are dropping every item which did not pass the check.\n",
    ">disp _N<br>\n",
    ">keep if all_match==1<br>\n",
    "> disp _N"
   ]
  },
  {
   "cell_type": "markdown",
   "metadata": {
    "slideshow": {
     "slide_type": "subslide"
    }
   },
   "source": [
    ">. disp _N<br>\n",
    "><b>35,810,823</b>\n",
    ">\n",
    ">. keep if all_match==1<br>\n",
    ">(<b>17,075,380</b> observations deleted)\n",
    ">\n",
    ">. disp _N<br>\n",
    "><b>18,735,443</b>\n",
    "\n"
   ]
  },
  {
   "cell_type": "markdown",
   "metadata": {
    "slideshow": {
     "slide_type": "subslide"
    }
   },
   "source": [
    "<center>Now that we have our data set, we can start working with it.</center>"
   ]
  },
  {
   "cell_type": "code",
   "execution_count": null,
   "metadata": {},
   "outputs": [],
   "source": [
    "* in dta01.csv we needed to add 2000 to the variable year (wrong casting)\n",
    "* instead of taking the detour by using a temporary variable, we can simply do a replace\n",
    "\n",
    "replace year = year + 2000\n",
    "\n",
    "* Bob Ross' gently voice from the off: \"Nice and clean.\" "
   ]
  },
  {
   "cell_type": "code",
   "execution_count": null,
   "metadata": {
    "slideshow": {
     "slide_type": "slide"
    }
   },
   "outputs": [],
   "source": [
    "* count unique individuals by year and month\n",
    "egen tag = tag(cpsidp month year)\n",
    "egen distinct = total(tag), by(month year)\n",
    "sort year month\n",
    "tabdisp year month, c(distinct)\n",
    "\n",
    "drop distinct tag"
   ]
  },
  {
   "cell_type": "code",
   "execution_count": null,
   "metadata": {
    "slideshow": {
     "slide_type": "subslide"
    }
   },
   "outputs": [],
   "source": [
    "* count unique individuals by year\n",
    "egen tag = tag(year cpsidp)\n",
    "egen distinct = total(tag), by(year)\n",
    "tabdisp year, c(distinct)\n",
    "\n",
    "drop distinct tag"
   ]
  },
  {
   "cell_type": "code",
   "execution_count": null,
   "metadata": {
    "slideshow": {
     "slide_type": "subslide"
    }
   },
   "outputs": [],
   "source": [
    "* count unique individuals overall\n",
    "egen tag = tag(cpsid)\n",
    "egen distinct = total(tag_t)\n",
    "display distinct_t"
   ]
  },
  {
   "cell_type": "code",
   "execution_count": null,
   "metadata": {
    "slideshow": {
     "slide_type": "subslide"
    }
   },
   "outputs": [],
   "source": [
    "* problem: individuals could appear up to four times within one year\n",
    "* either use variable mish or create a new date variable and calculate\n",
    "* its minimum per respondent to see when a person entered the survey \n",
    "\n",
    "egen date = concat(year month)\n",
    "* converting to numeric\n",
    "destring date, generate (date2)\n",
    "drop date\n",
    "gen date = date2\n",
    "drop date2"
   ]
  },
  {
   "cell_type": "markdown",
   "metadata": {},
   "source": [
    "<a name='task1.1'></a>\n",
    "## [Task 1.1](#content)\n",
    "<br>**How many respondents are introduced into the panel each year?**"
   ]
  },
  {
   "cell_type": "code",
   "execution_count": null,
   "metadata": {
    "slideshow": {
     "slide_type": "subslide"
    }
   },
   "outputs": [],
   "source": [
    "bysort cpsidp: egen mind = min(date)\n",
    "gen entry = .\n",
    "replace entry = 1 if date == mind\n",
    "             * or if mish == 1\n",
    "egen num_entries = total(entry), by(year)\n",
    "tabdisp year, c(num_entries)\n",
    "\n",
    "drop entry num_entries mind"
   ]
  },
  {
   "cell_type": "markdown",
   "metadata": {},
   "source": [
    "<a name='task1.2' /></a>\n",
    "## [Task 1.2](#content)\n",
    "**What is the average yearly share of female respondents overall? How does the average annual\n",
    "share evolve from 2000-2019?**"
   ]
  },
  {
   "cell_type": "code",
   "execution_count": null,
   "metadata": {
    "slideshow": {
     "slide_type": "subslide"
    }
   },
   "outputs": [],
   "source": [
    "* share of women\n",
    "\n",
    "summarize sex\n",
    "replace sex = sex - 1\n",
    "\n",
    "* share overall\n",
    "mean sex\n",
    "\n",
    "* share per year\n",
    "bysort year: egen fem = mean(sex)\n",
    "table year, content(max fem)\n",
    "* or \n",
    "tab year sex, row"
   ]
  },
  {
   "cell_type": "markdown",
   "metadata": {
    "slideshow": {
     "slide_type": "subslide"
    }
   },
   "source": [
    "If you trying to calculate the share of a variable, yet it is not binary coded, you can try different approaches.\n",
    "\n",
    "tab gives you pretty much everything you want:\n",
    "\n",
    "> tab year sex, row"
   ]
  },
  {
   "cell_type": "markdown",
   "metadata": {
    "slideshow": {
     "slide_type": "subslide"
    }
   },
   "source": [
    "If you want to store the share as a ne variable, you have to come up with something different.\n",
    "\n",
    "Let us generate a variable for the share of unique female respondents and let us imagine that sex is a non-binary variable.\n",
    "\n",
    ">gen fem = .<br>\n",
    ">replace fem = 1 if sex == 'female'<br>\n",
    ">egen fem_counter = tag(year cpsidp fem)<br>\n",
    ">egen fem_total = total(fem_counter), by(year)<br>\n",
    ">egen respondents_total = tag(year cpsidp)<br>\n",
    ">gen fem_share = fem_total / respondents_total\n",
    "\n",
    "I strongly recommend to drop the auxiliary after that, so that the table stays clear and tidy."
   ]
  },
  {
   "cell_type": "markdown",
   "metadata": {
    "slideshow": {
     "slide_type": "slide"
    }
   },
   "source": [
    "Anyhow, the trick of exploiting the binary nature of the variable sex seems to be the quickest way to create a new variable for the share of female respondents."
   ]
  },
  {
   "cell_type": "markdown",
   "metadata": {},
   "source": [
    "<a name='task1.3' /></a>\n",
    "## [Task 1.3](#content)\n",
    "**What is the average yearly share of respondents holding at least a college degree overall? How does the average annual share evolve from 2001-2018?**"
   ]
  },
  {
   "cell_type": "markdown",
   "metadata": {
    "slideshow": {
     "slide_type": "slide"
    }
   },
   "source": [
    "For the average share of respondents holding a college degree I accidentally calculated the share of responses instead the share of respondents. I disregarded the fact that individuals are paticipating up to four times a year in the survey.<br>\n",
    "The following code considers this as well as the fact that a person can obtain college degree between the waves of interviews. The highes degree obtained within a year will be counted."
   ]
  },
  {
   "cell_type": "code",
   "execution_count": null,
   "metadata": {
    "slideshow": {
     "slide_type": "subslide"
    }
   },
   "outputs": [],
   "source": [
    "summarize educ\n",
    "gen college = .\n",
    "replace college = 1 if inlist(educ, 125, 124, 092, 123, 111)\n",
    "egen tag_college = tag(year cpsidp college)\n",
    "egen tag_respondents = tag(year cpsidp)\n",
    "egen college_total = total(tag_college), by(year)\n",
    "                                       * In the class, we used bysort in front of the command,\n",
    "                                       * yet at least in Stata13 this variant is fine as well.\n",
    "egen respondents_total = total(tag_respondents), by(year)\n",
    "gen college_share = college_total / respondents_total\n",
    "egen college_share = total(tag_college) / total(tag_respondents), by(year)"
   ]
  },
  {
   "cell_type": "code",
   "execution_count": null,
   "metadata": {
    "slideshow": {
     "slide_type": "subslide"
    }
   },
   "outputs": [],
   "source": [
    "twoway (line college_share year, sort), ytitle(share) xtitle(year) title(Share of respondents holding at least college degree)"
   ]
  },
  {
   "cell_type": "markdown",
   "metadata": {
    "slideshow": {
     "slide_type": "subslide"
    }
   },
   "source": [
    "As for the overall share of respondents holding at least a college degree, we are going to ignore the academic path of a respondent."
   ]
  },
  {
   "cell_type": "code",
   "execution_count": null,
   "metadata": {
    "slideshow": {
     "slide_type": "subslide"
    }
   },
   "outputs": [],
   "source": [
    "* overall share of respondents holding a college degree\n",
    "egen tag_college_overall = tag(cpsidp college)\n",
    "egen tag_respondents_overall = tag(cpsidp)\n",
    "\n",
    "egen college_total_overall =  total(tag_college_overall)\n",
    "egen respondents_total_overall =  total(tag_respondents_overall)\n",
    "gen college_share_overall = college_total_overall / respondents_total_overall\n",
    "\n",
    "* we only take mean to display the result, not to calculate the share again\n",
    "mean(college_share_overall)\n",
    "\n",
    "*drop respondents_total_overall respondents_total_overall tag_college tag_respondents college_share college tag_college_overall college_total respondents_total"
   ]
  },
  {
   "cell_type": "markdown",
   "metadata": {
    "slideshow": {
     "slide_type": "slide"
    }
   },
   "source": [
    "<a name='task1.4'></a>\n",
    "## [Task 1.4](#content)\n",
    "**Plot the distribution of hourly wages for the years 2001, 2009 and 2018.**"
   ]
  },
  {
   "cell_type": "code",
   "execution_count": null,
   "metadata": {
    "slideshow": {
     "slide_type": "subslide"
    }
   },
   "outputs": [],
   "source": [
    "mvdecode(hourwage), mv(999.99)\n",
    "\n",
    "histogram hourwage if year==2001, name(h2001)\n",
    "histogram hourwage if year==2009, name(h2009)\n",
    "histogram hourwage if year==2018, name(h2018)\n",
    "gr combine h2001 h2009 h2018, col(3)"
   ]
  },
  {
   "cell_type": "markdown",
   "metadata": {
    "slideshow": {
     "slide_type": "slide"
    }
   },
   "source": [
    "# Insight & descriptive statistics"
   ]
  },
  {
   "cell_type": "markdown",
   "metadata": {},
   "source": [
    "<a name='task1.6'></a>\n",
    "## [Task 1.6](#content)\n",
    "**You have the task to create statistics of employment status, occupation, wage and education. You are also asked to do this analysis for the subpopulations defined by age, race, sex and citizenship. How would you proceed?**"
   ]
  },
  {
   "cell_type": "markdown",
   "metadata": {},
   "source": [
    "The idea of this task is to rise awareness of the different scale of measurements present in this data set.<br>\n",
    "There is no point in calculating 5 point statistics for a nominal variable. Frequency tables are a helpful start for a data analysis.<br>\n",
    "<br>\n",
    "There are different ways in stata to create meaningful statistics. When doing so for various subpopulations, you should avoid to render the statistics to granular, i.e. analsing too many groups. The more result tables you have, the harder it gets to compare them. <br> <br> <br>\n",
    "Here are some examples of commands in stata"
   ]
  },
  {
   "cell_type": "markdown",
   "metadata": {},
   "source": [
    "## Why .csv instead of .dta?\n",
    "Because the version of Stata running on the application server (version 12) is too old to read the .dta-files provided by IPUMS CPS. Using .csv enables you to work on the dataset with whatever program you like (at least I am not aware of any statisical program or programming language that cannot read .csv-files).\n",
    "The big drawback is the loss of all label information within the dataset. But this merely means we have to look them up in the codebook that is automatically generated along the data extract or in the online library of IPUMS."
   ]
  },
  {
   "cell_type": "markdown",
   "metadata": {},
   "source": [
    "<a name='task2'></a>\n",
    "## [Task 2](#content)\n",
    "**Task 1.6** and preperation for **Task 2**"
   ]
  },
  {
   "cell_type": "code",
   "execution_count": null,
   "metadata": {
    "scrolled": true,
    "slideshow": {
     "slide_type": "subslide"
    }
   },
   "outputs": [],
   "source": [
    "clear\n",
    "*import delimited \"C:\\Users\\Hannes\\Downloads\\dta02.csv\", asdouble\n",
    "\n",
    "** dta for Stata 11 & 12\n",
    "use \"C:\\Users\\Hannes\\Downloads\\cps_00012.dta\\dta03_10.dta\""
   ]
  },
  {
   "cell_type": "code",
   "execution_count": null,
   "metadata": {},
   "outputs": [],
   "source": [
    "* converting to numeric\n",
    "gen date = mdy(month, 19, year)\n",
    "format date %td"
   ]
  },
  {
   "cell_type": "markdown",
   "metadata": {},
   "source": [
    "*(This remark refers to the use of .csv instead of a .dta-file.)*\n",
    "\n",
    "Use the option \"asdouble\" to prevent Stata from storing the data in float precision (Example of float precision: <a href=\"https://www.h-schmidt.net/FloatConverter/IEEE754de.html\">generator for float precision</a>). Although it uses double precision for calculation, this storage type makes it rather unpleasant to address certain values or to filter a variable, since float precision is used for such actions instead."
   ]
  },
  {
   "cell_type": "markdown",
   "metadata": {},
   "source": [
    "*(This remark refers to the use of .csv instead of a .dta-file.)*\n",
    "The missing first digits in year are a bug from importing the original raw csv into Sqlitestudio and only affect year.<br>\n",
    "This behaviour gave me the final push to switch from SQLite to PostgreSQL, since there exist various packages for the latter in Python and R.<br><br>\n",
    "If you plan on working with large data sets or big data in the future, you might want to learn SQL in order to manage and query data efficiently. Its broad usage in research and economy renders it a ~~sparkling~~ distinguishing feature on every CV."
   ]
  },
  {
   "cell_type": "code",
   "execution_count": null,
   "metadata": {
    "scrolled": true
   },
   "outputs": [],
   "source": [
    "tab year"
   ]
  },
  {
   "cell_type": "code",
   "execution_count": null,
   "metadata": {},
   "outputs": [],
   "source": [
    "summarize age, detail"
   ]
  },
  {
   "cell_type": "code",
   "execution_count": null,
   "metadata": {},
   "outputs": [],
   "source": [
    "/* There exist a variety of commands that yield a quick overview of the data as well as some related basic statistics\n",
    "and further information.*/\n",
    "describe"
   ]
  },
  {
   "cell_type": "code",
   "execution_count": null,
   "metadata": {
    "scrolled": false,
    "slideshow": {
     "slide_type": "subslide"
    }
   },
   "outputs": [],
   "source": [
    "codebook"
   ]
  },
  {
   "cell_type": "code",
   "execution_count": null,
   "metadata": {
    "scrolled": false,
    "slideshow": {
     "slide_type": "subslide"
    }
   },
   "outputs": [],
   "source": [
    "// Create frequency tables using the tabulate command\n",
    "tabulate educ sex, row"
   ]
  },
  {
   "cell_type": "code",
   "execution_count": null,
   "metadata": {},
   "outputs": [],
   "source": [
    "numlabel, add\n",
    "tab educ"
   ]
  },
  {
   "cell_type": "markdown",
   "metadata": {},
   "source": [
    "Value 92 represents associate's degrees. Those degrees academic degrees in the US and in other countries who introduced it. However, in most countries of the EU those degrees are not considered academic.<br>\n",
    "Now we have to decide whether to label those degrees as academic college degrees or not.<br>\n",
    "I choose not to do so, since the results of my analysis would be hard to compare with the situation in other countries where such a degree is unknown.<br><br>\n",
    "If you happen to work with this variable in your project, you may decide to label associate's degrees differently. However you proceed, please elaborate on your decision. "
   ]
  },
  {
   "cell_type": "code",
   "execution_count": null,
   "metadata": {
    "scrolled": true
   },
   "outputs": [],
   "source": [
    "/* create new variable highschool that is 0 for every degree below highschool, 1 for every degree equivalent\n",
    "or above higschool and .m for missing values */\n",
    "\n",
    "gen college = 0\n",
    "replace college = 1 if educ > 92\n",
    "replace college = .m if educ == 1"
   ]
  },
  {
   "cell_type": "code",
   "execution_count": null,
   "metadata": {
    "scrolled": false
   },
   "outputs": [],
   "source": [
    "tab sex college, row"
   ]
  },
  {
   "cell_type": "code",
   "execution_count": null,
   "metadata": {
    "scrolled": true
   },
   "outputs": [],
   "source": [
    "bysort sex college: tab occ empstat, row"
   ]
  },
  {
   "cell_type": "code",
   "execution_count": null,
   "metadata": {
    "scrolled": true
   },
   "outputs": [],
   "source": [
    "numlabel, add\n",
    "tabulate faminc"
   ]
  },
  {
   "cell_type": "code",
   "execution_count": null,
   "metadata": {
    "scrolled": false
   },
   "outputs": [],
   "source": [
    "mvdecode(faminc), mv(996 997 999)"
   ]
  },
  {
   "cell_type": "code",
   "execution_count": null,
   "metadata": {
    "scrolled": false
   },
   "outputs": [],
   "source": [
    "tabstat faminc, by(year) statistics(p25, median, p75)"
   ]
  },
  {
   "cell_type": "markdown",
   "metadata": {},
   "source": [
    "You should also graph the data to visualise statistics and developments over time or region."
   ]
  },
  {
   "cell_type": "code",
   "execution_count": null,
   "metadata": {
    "scrolled": true
   },
   "outputs": [],
   "source": [
    "graph bar (count), over(faminc) over(year, label(angle(v)))  asyvars stack percent"
   ]
  },
  {
   "cell_type": "markdown",
   "metadata": {},
   "source": [
    "## Task 2\n",
    "### Effects of wage on hours worked (intensive margin)"
   ]
  },
  {
   "cell_type": "code",
   "execution_count": null,
   "metadata": {
    "scrolled": true
   },
   "outputs": [],
   "source": [
    "gen hwage_r = round(hourwage, 1)"
   ]
  },
  {
   "cell_type": "code",
   "execution_count": null,
   "metadata": {
    "scrolled": true
   },
   "outputs": [],
   "source": [
    "tab hwage_r"
   ]
  },
  {
   "cell_type": "markdown",
   "metadata": {},
   "source": [
    "<a href=\"https://cps.ipums.org/cps-action/variables/HOURWAGE#description_section\">IMPUMS' description of hourwage</a>:<br>\n",
    ">HOURWAGE reports how much the respondent earned per hour in the current job, for those workers paid an hourly wage (and coded as \"2\" in PAIDHOUR). Amounts are expressed as they were reported to the interviewer; users must adjust for inflation using Consumer Price Index adjustment factors. Researchers should use the EARNWT weight with this variable.\n",
    "\n",
    ">Users should note that HOURWAGE originally had two implied decimal places, but was revised so that the command files provided by IPUMS divide HOURWAGE by 100.\n",
    "\n",
    ">HOURWAGE is one of the <a href=\"https://cps.ipums.org/cps/outgoing_rotation_notes.shtml\">Outgoing Rotation/Earner Study</a> questions."
   ]
  },
  {
   "cell_type": "code",
   "execution_count": null,
   "metadata": {
    "scrolled": false
   },
   "outputs": [],
   "source": [
    "summarize hourwage, detail"
   ]
  },
  {
   "cell_type": "markdown",
   "metadata": {},
   "source": [
    "The 10th percentile is 999.99, which means \"not in universe\". Thus we are lacking information on hourly wage for at least 90% of the respondents.<br>\n",
    "The variable for wages in topcoded for the sake of discretion: Every wage that would result in a yearly income of more than \\\\$ 100,000 (1985-2002) and  \\\\$ 150,000 (since 2003) is coded as 99.99 in hourwage."
   ]
  },
  {
   "cell_type": "code",
   "execution_count": null,
   "metadata": {
    "scrolled": true
   },
   "outputs": [],
   "source": [
    "mvdecode(hourwage), mv(999.99)"
   ]
  },
  {
   "cell_type": "code",
   "execution_count": null,
   "metadata": {
    "scrolled": true
   },
   "outputs": [],
   "source": [
    "summarize hourwage, detail"
   ]
  },
  {
   "cell_type": "markdown",
   "metadata": {},
   "source": [
    "So how many topcoded values do we have in hourwage?"
   ]
  },
  {
   "cell_type": "code",
   "execution_count": null,
   "metadata": {
    "scrolled": true
   },
   "outputs": [],
   "source": [
    "tab hourwage if hourwage == 99.99"
   ]
  },
  {
   "cell_type": "code",
   "execution_count": null,
   "metadata": {},
   "outputs": [],
   "source": [
    "sum hourwage if hourwage < 99.99"
   ]
  },
  {
   "cell_type": "code",
   "execution_count": null,
   "metadata": {},
   "outputs": [],
   "source": [
    "mvdecode(hourwage), mv(99.99)"
   ]
  },
  {
   "cell_type": "code",
   "execution_count": null,
   "metadata": {
    "scrolled": true
   },
   "outputs": [],
   "source": [
    "gen quarter = .m\n",
    "replace quarter = 1 if inlist(month, 1, 2, 3)\n",
    "replace quarter = 2 if inlist(month, 4, 5, 6)\n",
    "replace quarter = 3 if inlist(month, 7, 8, 9)\n",
    "replace quarter = 4 if inlist(month, 10, 11, 12)"
   ]
  },
  {
   "cell_type": "code",
   "execution_count": null,
   "metadata": {
    "scrolled": true
   },
   "outputs": [],
   "source": [
    "tab year quarter if !missing(hourwage)"
   ]
  },
  {
   "cell_type": "code",
   "execution_count": null,
   "metadata": {
    "scrolled": true
   },
   "outputs": [],
   "source": [
    "tab month if !missing(hourwage)"
   ]
  },
  {
   "cell_type": "markdown",
   "metadata": {},
   "source": [
    "The March Supplement yields most income information."
   ]
  },
  {
   "cell_type": "markdown",
   "metadata": {},
   "source": [
    "<a name='task2.1'></a>\n",
    "## [Task 2.1](#content)\n",
    "\n",
    "**Examine the effect of wage on hours worked (intensive margin of labour supply) using an OLS.**"
   ]
  },
  {
   "cell_type": "code",
   "execution_count": null,
   "metadata": {
    "scrolled": false
   },
   "outputs": [],
   "source": [
    "numlabel , add\n",
    "tabulate uhrswork1"
   ]
  },
  {
   "cell_type": "markdown",
   "metadata": {},
   "source": [
    "uhrswork1 = 999 denotes missing values. But how do we handle varying hours (i.e. uhrswork1=997)? In a way we are lacking information here as well."
   ]
  },
  {
   "cell_type": "code",
   "execution_count": null,
   "metadata": {},
   "outputs": [],
   "source": [
    "numlabel, add\n",
    "tab classwkr\n",
    "tab empstat"
   ]
  },
  {
   "cell_type": "markdown",
   "metadata": {},
   "source": [
    "From our understanding individuals with $classwkr \\in [12, 28]$ and $empstat \\in [1, 12]$ should work at least some hours a week."
   ]
  },
  {
   "cell_type": "code",
   "execution_count": null,
   "metadata": {},
   "outputs": [],
   "source": [
    "tab uhrswork1 if inrange(classwkr, 12, 28) & inrange(empstat, 1, 12)"
   ]
  },
  {
   "cell_type": "markdown",
   "metadata": {},
   "source": [
    "uhrswork1 = 997 affects approximately 7.6 % of all respondents having a job. We are going to exclude 997 an 999 from the analysis, since we are interested in effects on the intensive margin.<br>\n",
    "Keep in mind that the missing of data (or in our case a varying in hours) could yield some important implications as well.<br><br>\n",
    "To elaborate on that, let us have a brief look at missing values.<br><br>\n",
    "\n",
    "### Missing Completely At Random (MCAR)\n",
    "The occurence of a missing value in Y does not depend on realisations of any other variable $X_i$ nor does it depend on other realisations of Y itself.\n",
    "<br>\n",
    "e.g.\n",
    "- transmission errors <br>\n",
    "\n",
    "### Missing At Random (MAR)\n",
    "The occurence of a missing value can be fully explained by the other variables $X_i$. <br>\n",
    "e.g.\n",
    "- males are less likely to state existing mental problems - regardless of whether they have mentral problems or not <br>\n",
    "\n",
    "### Missing Not At Random (MNAR)\n",
    "The occurence of a missing value in Y does depend on realisations of Y itself and can also depend on realisations of other variables $X_i$. <br>\n",
    "e.g.\n",
    "- People with high income are less likely to state their income.\n",
    "\n",
    "<br><br>\n",
    "Keep in mind that the missing of data might hold some information as well."
   ]
  },
  {
   "cell_type": "code",
   "execution_count": null,
   "metadata": {},
   "outputs": [],
   "source": [
    "mvdecode(uhrswork1), mv(999 997)"
   ]
  },
  {
   "cell_type": "code",
   "execution_count": null,
   "metadata": {
    "scrolled": true
   },
   "outputs": [],
   "source": [
    "reg uhrswork1 hourwage [pweight=earnwt]"
   ]
  },
  {
   "cell_type": "markdown",
   "metadata": {},
   "source": [
    "**OLS** minimizes<br>\n",
    "$$\\sum_{i=1}^n (y_i - (\\alpha1 + \\beta x_i))^2$$\n",
    "<br>\n",
    "Introducing a weight $w_i$ (probability weight) for every observation: <br>\n",
    "$$\\sum_{i=1}^n w_i^2 (y_i - (\\alpha1 + \\beta x_i))^2$$ <br>\n",
    "$$\\sum_{i=1}^n (w_iy_i - (\\alpha w_i + \\beta w_i x_i))^2$$\n",
    "\n"
   ]
  },
  {
   "cell_type": "markdown",
   "metadata": {},
   "source": [
    "<a name='task2.2'></a>\n",
    "## [Task 2.2](#content)\n",
    "\n",
    "**Determine the correlation between wages and hours worked. What is the difference between OLS and correlation?**"
   ]
  },
  {
   "cell_type": "code",
   "execution_count": null,
   "metadata": {
    "scrolled": false
   },
   "outputs": [],
   "source": [
    "corr uhrswork1 hourwage"
   ]
  },
  {
   "cell_type": "markdown",
   "metadata": {},
   "source": [
    "The default correlation command does not feature pweights. However, for point estimates of the correlation it is recommended to use aweight instead - though it delivers bogus p-values.\n",
    "<br>\n",
    "<a href=\"https://www.stata.com/support/faqs/statistics/estimate-correlations-with-survey-data/\">https://www.stata.com/support</a>"
   ]
  },
  {
   "cell_type": "code",
   "execution_count": null,
   "metadata": {
    "scrolled": true
   },
   "outputs": [],
   "source": [
    "corr uhrswork1 hourwage [aweight=earnwt]\n",
    "display round(r(rho)^2, .0001)"
   ]
  },
  {
   "cell_type": "markdown",
   "metadata": {},
   "source": [
    "Note that $corr(uhrswork1,hourwage)^2$ equals R-squared from the regression."
   ]
  },
  {
   "cell_type": "markdown",
   "metadata": {},
   "source": [
    "<a name='task2.3'></a>\n",
    "## [Task 2.3](#content)\n",
    "**Add age, sex and citizenship to your model. Include the log of wage and hours. Interpret the results of a multivariate regression.**"
   ]
  },
  {
   "cell_type": "code",
   "execution_count": null,
   "metadata": {
    "scrolled": false
   },
   "outputs": [],
   "source": [
    "numlabel, add\n",
    "tab citizen"
   ]
  },
  {
   "cell_type": "code",
   "execution_count": null,
   "metadata": {
    "scrolled": false
   },
   "outputs": [],
   "source": [
    "gen citizen2 = 0\n",
    "replace citizen2 = 1 if inrange(citizen, 1, 4)"
   ]
  },
  {
   "cell_type": "code",
   "execution_count": null,
   "metadata": {
    "scrolled": false
   },
   "outputs": [],
   "source": [
    "sum citizen2\n",
    "display \"share of non-citizens:\" round(1 - r(mean), .0001)"
   ]
  },
  {
   "cell_type": "code",
   "execution_count": null,
   "metadata": {},
   "outputs": [],
   "source": [
    "numlabel, add\n",
    "tab age"
   ]
  },
  {
   "cell_type": "markdown",
   "metadata": {},
   "source": [
    "Did you notice the accumulation at ages 80 and 85? <br><br>\n",
    "The <a href=\"https://cps.ipums.org/cps-action/variables/age#codes_section\">description</a> of the variable age on the ipums website holds the following:<br>\n",
    ">Top codes:<br>\n",
    "1962-1987: 99+ coded as 99<br>\n",
    "1988-2001: 90+ coded as 90<br>\n",
    "2002-2003: 80+ coded as 80<br>\n",
    "2004-onward: 80-84 coded as 80, 85+ coded as 85<br>\n",
    "\n",
    "Does this affect our analysis? How many people aged 80 and above still participate in the job market?<br>\n",
    "(First guess: Not that much.)"
   ]
  },
  {
   "cell_type": "code",
   "execution_count": null,
   "metadata": {
    "scrolled": true
   },
   "outputs": [],
   "source": [
    "tabstat uhrswork1 if year > 2004 & inlist(age, 80, 85) & inrange(uhrswork1, 1, 996), by(age) statistics(count, mean, median, min, max)\n",
    "tab age if year > 2004 & inrange(uhrswork1, 1, 996)"
   ]
  },
  {
   "cell_type": "markdown",
   "metadata": {},
   "source": [
    "I opt to exclude individuals aged 80 and above from the analysis.<br>\n",
    "If you decide differently, you have to find a way to deal with the topcode values 80 and 85 (e.g. by creating a dummy for both)"
   ]
  },
  {
   "cell_type": "code",
   "execution_count": null,
   "metadata": {
    "scrolled": true
   },
   "outputs": [],
   "source": [
    "gen log_uhrswork1 = log(uhrswork1)\n",
    "gen log_hourwage = log(hourwage)"
   ]
  },
  {
   "cell_type": "code",
   "execution_count": null,
   "metadata": {
    "scrolled": false
   },
   "outputs": [],
   "source": [
    "reg log_uhrswork1 log_hourwage age i.sex i.citizen2 [pweight=earnwt] if age < 80"
   ]
  },
  {
   "cell_type": "markdown",
   "metadata": {},
   "source": [
    "Note: Stata created a appropriate cutoff for the dummies i.sex by itself. No need to transform the variable into a binary 0-1 format."
   ]
  },
  {
   "cell_type": "markdown",
   "metadata": {},
   "source": [
    "Instead of creating a new dummy variable for citizen you can also tell stata where to set the cutoff for a dummy in the regression by typing **i5.citizen**. <br>\n",
    "Stata will construct a dummy variable that is one for citizen greater or equal 5 and zero otherwise.<br>\n",
    "Note that this is the exact opposite definition of the dummy variable citizen2."
   ]
  },
  {
   "cell_type": "code",
   "execution_count": null,
   "metadata": {
    "scrolled": false
   },
   "outputs": [],
   "source": [
    "reg log_uhrswork1 log_hourwage age i.sex i5.citizen [pweight=earnwt]"
   ]
  },
  {
   "cell_type": "markdown",
   "metadata": {},
   "source": [
    "The absolute value of the citizen dummy is the same as for the former regression, only the sign of the coefficient, the t-value and the confidence interval changes.<br>\n",
    "Because of the changing reference level of both models (1 denotes two different things in citizen2 and i5.citizen) the intercept is slightly different, too."
   ]
  },
  {
   "cell_type": "markdown",
   "metadata": {},
   "source": [
    " <a name='task2.4'></a>\n",
    " ## [Task 2.4](#content)\n",
    "\n",
    "**Run the following multivariate regression:<br><br><center>\n",
    "\\\\( \\log hours = \\beta_0 + \\beta_1 \\log wage_i + \\beta_2 age_i + \\beta_3 educ2_i + \\beta_4 sex_i + \\beta_5 (educ2_i \\times sex_i)\\\\);</center><br> with educ2 being a dummy variable for a respondent holding at least a college degree.\n",
    "Interpret your results.**"
   ]
  },
  {
   "cell_type": "code",
   "execution_count": null,
   "metadata": {
    "scrolled": false
   },
   "outputs": [],
   "source": [
    "reg log_uhrswork1 log_hourwage age i.sex##i.college [pweight=earnwt]"
   ]
  },
  {
   "cell_type": "markdown",
   "metadata": {},
   "source": [
    "ceteris paribus:\n",
    "\n",
    "\\\\( \\beta_3 college_i + \\beta_4 sex_i + \\beta_5 (college_i \\times sex_i) \\\\)<br><br>\n",
    "\n",
    "Plugging in the estimates for the coefficients and calculating the total coefficient for all four subpopulations defined by the two binary dummy variables *sex* and *college* yields:\n",
    "<br>\n",
    "\n",
    "male and no college ==>  0 * (-.1110517 ) + 0 * (-.0630167 ) + -.0213821(0x0) = 0 (reference group) <br>\n",
    "male and college ==> 0 * (-.1110517 ) + 1 * (-.0630167 ) + -.0213821(0x1) = -.0630167 <br>\n",
    "female and no college ==> 1 * (-.1110517) + 0 * (-.0630167 ) + -.0213821(1x0) = -.1110517 <br>\n",
    "female and collge ==>  1 * (-.1110517) + 1 * (-.0630167 ) + -.0213821(1x1) = -0.1954505"
   ]
  },
  {
   "cell_type": "markdown",
   "metadata": {},
   "source": [
    "The coefficients of the dummy variable depict the effect of being a male holding a college degree as well as of being a female holding or not holding a college degree relative to being a male not holding a college degree.<br>\n",
    "Pay attention to the reference group when interpreting your results "
   ]
  },
  {
   "cell_type": "markdown",
   "metadata": {},
   "source": [
    "Note that introducing factor variables in your regression model means to allow the intercept to vary for the corresponding groups in the sample.<br>\n",
    "<br>\n",
    "\\\\( intercept_{s, c} = \\beta_0 + \\beta_3 college_i + \\beta_4 sex_i + \\beta_5 (college_i \\times sex_i) \\\\)<br><br>\n",
    "Male, no college: intercept =  3.018303 + 1 * (-.1110517) + 1 * (-.0630167 ) + -.0213821(1x1) = 3.018303 <br>\n",
    "Male, college: intercept =  3.018303 + 0 * (-.1110517 ) + 1 * (-.0630167 ) + -.0213821(0x1) = 2,9552863 <br>\n",
    "Female, no college: intercept =  3.018303 + 1 * (-.1110517) + 0 * (-.0630167 ) + -.0213821(1x0) = 2,9072513 <br>\n",
    "Female, college: intercept =  3.018303 + 1 * (-.1110517) + 1 * (-.0630167 ) + -.0213821(1x1) = 2,8228525 <br><br>\n",
    "\n",
    "You could plot a regression line for each group and you would receive 4 parallel lines at different levels (with different intercepts). \n"
   ]
  },
  {
   "cell_type": "markdown",
   "metadata": {
    "slideshow": {
     "slide_type": "slide"
    }
   },
   "source": [
    "## [Task 3](#content)\n",
    "## Employment Flows"
   ]
  },
  {
   "cell_type": "markdown",
   "metadata": {
    "slideshow": {
     "slide_type": "subslide"
    }
   },
   "source": [
    "<a name='task3.1'></a>\n",
    "## [Task 3.1](#content)\n",
    "\n",
    "**Find out the monthly flows for the U.S. for a period of years covered by your cps sample aswell.<br>\n",
    "Adequate data is provided by the Bureau of Labor Statistics. <a href=\"https://www.bls.gov/webapps/legacy/cpsflowstab.htm\">LINK</a>\n",
    "<br><br>\n",
    "Try to visualise the monthly flows.**\n",
    "\n",
    "*Note: Not all tasks have to be solved using Stata. Especially when working with smaller data sets, it is much more convenient to explore and modify data using a spreadsheet program.*"
   ]
  },
  {
   "cell_type": "markdown",
   "metadata": {},
   "source": [
    "See my example here: <a href=\"https://docs.google.com/presentation/d/1m5qdBlHHZF95bBo4Ee0XYS4B5TbNdPM8sOIOr3LAae0/edit#slide=id.gb091b769bf_0_21\">Link to Google Slides</a> <br><br>\n",
    "<a href=\"https://docs.google.com/spreadsheets/d/1_Vl2oIEV1sOPqyCJ91uyk4psLSqTm1h7ktoKX1aDQMA/edit?usp=sharing\">Related Spreadsheet</a>"
   ]
  },
  {
   "cell_type": "markdown",
   "metadata": {},
   "source": [
    "**Attention: The following snippets are Python code. In order to run it, you need to change the kernel back to Python.**"
   ]
  },
  {
   "cell_type": "code",
   "execution_count": null,
   "metadata": {
    "scrolled": true
   },
   "outputs": [],
   "source": [
    "import pandas as pd\n",
    "\n",
    "df = pd.read_csv (r'empflows.csv.txt') #specify your source file here\n",
    "print (df)"
   ]
  },
  {
   "cell_type": "markdown",
   "metadata": {},
   "source": [
    "## Monthly flows"
   ]
  },
  {
   "cell_type": "code",
   "execution_count": null,
   "metadata": {
    "scrolled": true
   },
   "outputs": [],
   "source": [
    "import plotly.graph_objects as go\n",
    "\n",
    "label =['E', 'U', 'N', 'O']*13\n",
    "source = [label[(4*df['month_src'][i]):].index(df['src'][i]) + (4*df['month_src'][i]) for i in df.index]\n",
    "target = [label[(4*df['month_trgt'][i]):].index(df['trgt'][i]) + (4*df['month_trgt'][i]) for i in df.index]\n",
    "y = [{'O': 0.00, 'E': 0.33, 'U': 0.66, 'N': 0.99}[label[i]] for i in source]\n",
    "x = [i * (1/len(set(df['month_src']))) for i in df['month_src']]\n",
    "\n",
    "fig = go.Figure(data=[go.Sankey(\n",
    "    arrangement = 'fixed',\n",
    "    node = dict(\n",
    "      pad = 10,\n",
    "      thickness = 20,\n",
    "      line = dict(color = \"black\", width = 0.7),\n",
    "      label = label,\n",
    "      color = \"lightblue\",\n",
    "      x = x,\n",
    "      #y = y\n",
    "    ),\n",
    "    link = dict(\n",
    "      source = source,\n",
    "      target = target,\n",
    "      value = df['value']\n",
    "  ))])\n",
    "\n",
    "fig.update_layout(\n",
    "    title_text=\"Employment Flows 2019\", font_size=16,\n",
    "    annotations=[\n",
    "        dict(\n",
    "            x=0,\n",
    "            y=-0.1,\n",
    "            text='Dec',\n",
    "            showarrow=False\n",
    "        ),\n",
    "        dict(\n",
    "            x=0.24,\n",
    "            y=-0.1,\n",
    "            text='Mar',\n",
    "            showarrow=False\n",
    "        ),\n",
    "        dict(\n",
    "            x=0.5,\n",
    "            y=-0.1,\n",
    "            text='Jun',\n",
    "            showarrow=False\n",
    "        ),\n",
    "        dict(\n",
    "            x=0.77,\n",
    "            y=-0.1,\n",
    "            text='Sep',\n",
    "            showarrow=False\n",
    "        ),\n",
    "        dict(\n",
    "            x=1,\n",
    "            y=-0.1,\n",
    "            text='Dec',\n",
    "            showarrow=False\n",
    "        )\n",
    "    ]\n",
    ")\n",
    "fig.show()"
   ]
  },
  {
   "cell_type": "markdown",
   "metadata": {},
   "source": [
    "## Quarterly flows"
   ]
  },
  {
   "cell_type": "code",
   "execution_count": null,
   "metadata": {
    "scrolled": true
   },
   "outputs": [],
   "source": [
    "import matplotlib.pyplot as plt\n",
    "import plotly.graph_objects as go\n",
    "import math\n",
    "\n",
    "quarter = [math.floor(i/3) + 1 for i in df['month_src']]\n",
    "df['q'] = quarter\n",
    "\n",
    "qdf = df.groupby(['q', 'src', 'trgt'])['value'].mean().reset_index()\n",
    "qdf['qtrgt'] = qdf['q'] + 1\n",
    "\n",
    "qdf[['src', 'trgt']] = qdf[['src', 'trgt']].astype(str)\n",
    "qdf['value'] = round(qdf['value'])\n",
    "\n",
    "label =['E', 'U', 'N', 'O']*5\n",
    "source = [label[(4*(qdf['q'][i] - 1)):].index(qdf['src'][i]) + (4*(qdf['q'][i] - 1)) for i in qdf.index]\n",
    "target = [label[(4*(qdf['qtrgt'][i] - 1)):].index(qdf['trgt'][i]) + (4*(qdf['qtrgt'][i] - 1)) for i in qdf.index]\n",
    "y = [{'O': 0.00, 'E': 0.2, 'U': 0.4, 'N': 0.6}[label[i]] for i in source]\n",
    "x = [(i -1) * (1/len(set(qdf['q']))) for i in qdf['q']]\n",
    "\n",
    "opacity = 0.7\n",
    "color = {'E': 'rgba(102,194,165,{})'.format(opacity),\n",
    "         'U': 'rgba(252,141,98,{})'.format(opacity),\n",
    "         'N': 'rgb(141,160,203,{})'.format(opacity),\n",
    "         'O':'rgba(231,138,195,{})'.format(opacity)}\n",
    "\n",
    "color = [color[label[i]] for i in source]\n",
    "\n",
    "fig = go.Figure(data=[go.Sankey(\n",
    "    arrangement = 'snap',\n",
    "    node = dict(\n",
    "      pad = 10,\n",
    "      thickness = 20,\n",
    "      line = dict(color = \"black\", width = 0.7),\n",
    "      label = label,\n",
    "      color = \"gray\",\n",
    "      x = x,\n",
    "      #y = y\n",
    "    ),\n",
    "    link = dict(\n",
    "      source = source,\n",
    "      target = target,\n",
    "      value = qdf['value'],\n",
    "      color = color\n",
    "  ))])\n",
    "\n",
    "fig.update_layout(\n",
    "    title_text=\"Employment Flows 2019\", font_size=16,\n",
    "    annotations=[\n",
    "        dict(\n",
    "            x=0.1,\n",
    "            y=-0.1,\n",
    "            text='q1',\n",
    "            showarrow=False\n",
    "        ),\n",
    "        dict(\n",
    "            x=0.4,\n",
    "            y=-0.1,\n",
    "            text='q2',\n",
    "            showarrow=False\n",
    "        ),\n",
    "        dict(\n",
    "            x=0.64,\n",
    "            y=-0.1,\n",
    "            text='q3',\n",
    "            showarrow=False\n",
    "        ),\n",
    "        dict(\n",
    "            x=0.9,\n",
    "            y=-0.1,\n",
    "            text='q4',\n",
    "            showarrow=False\n",
    "        )\n",
    "    ]\n",
    ")\n",
    "fig.show()"
   ]
  },
  {
   "cell_type": "markdown",
   "metadata": {},
   "source": [
    "I use <a href=\"https://colorbrewer2.org/\">ColorBrewer2</a> for picking different colors for variables."
   ]
  },
  {
   "cell_type": "markdown",
   "metadata": {},
   "source": [
    "<a name='subsamp'></a>\n",
    "## [Proper subsampling in Stata](#content)\n",
    "\n",
    "\n",
    "You might have noticed that your data extracts could take a considerable data size.<br>\n",
    "If you are working on the remote desktop provided by the university, you could face some problems working on big datasets.<br>\n",
    "In order to work on the data, you can create a subsample from your extract to shrink its size. But before doing so, you should think about which information you are willing to sacrifice and which you would like to keep. <br>\n",
    "You could create a 10% subsample simply by typing\n",
    "\n",
    "> sample 10\n",
    "\n",
    "in Stata and save the remaining dataset.<br>\n",
    "Doing so you might receive a dataset that is balanced across the years inlcuded in the main dataset - but this would be a rare outcome by chance.<br>\n",
    "You coul run\n",
    "\n",
    "> sample 10, by(year)\n",
    "\n",
    "to obtain a 10% sample from each year. Now the data is evenly distributed, but most likely only a fraction of the months in the sample of an individual will be included in the dataset, i.e. the chances that all consecutive answers of the same survey participants from different months will be part of the subsample are quite low.<br>\n",
    "As a workaround, you can create a auxiliary variable defined as a modulo of the sample's individual identifier and select your subsample from this variable.<br>\n",
    "This approach hinges on the assumption that the last digit of the id was assigned at random. <br>\n",
    "We could check this assumption by comparing the covariates of all groups defined by the last digit in cpsidp."
   ]
  },
  {
   "cell_type": "code",
   "execution_count": null,
   "metadata": {},
   "outputs": [],
   "source": [
    "clear\n",
    "** dta for Stata 11 & 12\n",
    "use \"C:\\Users\\Hannes\\Unibox Rostock\\LSMakro_share (Britta Gehrke)\\Daten\\IPUMS CPS\\dta04.dta\""
   ]
  },
  {
   "cell_type": "code",
   "execution_count": null,
   "metadata": {},
   "outputs": [],
   "source": [
    "gen sampleselect = mod(cpsidp, 9)"
   ]
  },
  {
   "cell_type": "markdown",
   "metadata": {},
   "source": [
    "Check the distribution of the new variable:"
   ]
  },
  {
   "cell_type": "code",
   "execution_count": null,
   "metadata": {
    "scrolled": true
   },
   "outputs": [],
   "source": [
    "tab sampleselect"
   ]
  },
  {
   "cell_type": "markdown",
   "metadata": {},
   "source": [
    "Choose the value with the most observations and drop all observations different from this value."
   ]
  },
  {
   "cell_type": "code",
   "execution_count": null,
   "metadata": {
    "scrolled": true
   },
   "outputs": [],
   "source": [
    "keep if sampleselect == 2\n",
    "tab month year"
   ]
  },
  {
   "cell_type": "markdown",
   "metadata": {},
   "source": [
    "One major advantage of this approach over .sample is its reproducible results.<br><br>\n",
    "The subsample I provided on stud.ip was created the following way:\n",
    "\n",
    "> keep if mod(cpsidp, 9) == 2 <br>\n",
    "> saveold \"path/dta04_sub.dta\", version(12)\n",
    "\n",
    "The original dataset had 4,582,523,793 bytes, the subsample only has 509,667,969 bytes now.<br>\n",
    "Hence we have drawn a ~ 11 % sample.\n",
    "\n"
   ]
  },
  {
   "cell_type": "markdown",
   "metadata": {},
   "source": [
    " <a name=\"task3.2\"> </a>\n",
    " ## [Task 3.2](#content)\n",
    "**The statistics of the BLS actually base on data from the CPS.<br> <br>\n",
    "Derive information on monthly employment flows. Disregard marginal in- and outflows**\n"
   ]
  },
  {
   "cell_type": "code",
   "execution_count": null,
   "metadata": {
    "scrolled": false
   },
   "outputs": [],
   "source": [
    "numlabel, add\n",
    "tab empstat"
   ]
  },
  {
   "cell_type": "markdown",
   "metadata": {},
   "source": [
    "**EMPSTAT Employment status** <br>\n",
    "00 NIU<br>\n",
    "01 Armed Forces <br>\n",
    "10 At work <br>\n",
    "12 Has job, not at work last week <br>\n",
    "20 Unemployed <br>\n",
    "21 Unemployed, experienced worker <br>\n",
    "22 Unemployed, new worker <br>\n",
    "30 Not in labor force <br>\n",
    "31 NILF, housework <br>\n",
    "32 NILF, unable to work <br>\n",
    "33 NILF, school <br>\n",
    "34 NILF, other <br>\n",
    "35 NILF, unpaid, lt 15 hours <br>\n",
    "36 NILF, retired"
   ]
  },
  {
   "cell_type": "code",
   "execution_count": null,
   "metadata": {},
   "outputs": [],
   "source": [
    "mvdecode(empstat), mv(0)"
   ]
  },
  {
   "cell_type": "code",
   "execution_count": null,
   "metadata": {
    "scrolled": false
   },
   "outputs": [],
   "source": [
    "gen empstat2 = \"U\" if inrange(empstat, 20, 22)\n",
    "replace empstat2 = \"E\" if inrange(empstat, 10, 12)\n",
    "replace empstat2 = \"N\" if empstat >= 30"
   ]
  },
  {
   "cell_type": "code",
   "execution_count": null,
   "metadata": {
    "scrolled": true
   },
   "outputs": [],
   "source": [
    "tab empstat2"
   ]
  },
  {
   "cell_type": "code",
   "execution_count": null,
   "metadata": {},
   "outputs": [],
   "source": [
    "gen date = year * 100 + month\n",
    "gen quarter = .m\n",
    "replace quarter = year * 10 + 1 if inlist(month, 1, 2, 3)\n",
    "replace quarter = year * 10 + 2 if inlist(month, 4, 5, 6)\n",
    "replace quarter = year * 10 + 3 if inlist(month, 7, 8, 9)\n",
    "replace quarter = year * 10 + 4 if inlist(month, 10, 11, 12)"
   ]
  },
  {
   "cell_type": "code",
   "execution_count": null,
   "metadata": {
    "scrolled": true
   },
   "outputs": [],
   "source": [
    "tab date\n",
    "tab quarter"
   ]
  },
  {
   "cell_type": "code",
   "execution_count": null,
   "metadata": {
    "scrolled": true
   },
   "outputs": [],
   "source": [
    "bysort cpsidp (date): gen lag_month = month[_n-1]\n",
    "gen check_interval = .\n",
    "replace check_interval = 0 if (month - lag_month) > 3 | (month - lag_month) < 1\n",
    "replace check_interval = 1 if (month - lag_month) < 4 & (month - lag_month) > 0\n",
    "drop lag_month"
   ]
  },
  {
   "cell_type": "code",
   "execution_count": null,
   "metadata": {
    "scrolled": false
   },
   "outputs": [],
   "source": [
    "tab check_interval"
   ]
  },
  {
   "cell_type": "code",
   "execution_count": null,
   "metadata": {
    "scrolled": true
   },
   "outputs": [],
   "source": [
    "bysort cpsidp (date): gen lag_empstat2 = empstat2[_n-1] if check_interval == 1\n"
   ]
  },
  {
   "cell_type": "code",
   "execution_count": null,
   "metadata": {
    "scrolled": false
   },
   "outputs": [],
   "source": [
    "tab empstat2 lag_empstat2 if year >= 2004"
   ]
  },
  {
   "cell_type": "code",
   "execution_count": null,
   "metadata": {
    "scrolled": false
   },
   "outputs": [],
   "source": [
    "gen empflow = lag_empstat2 + \" ==> \" + empstat2 if !missing(lag_empstat2) & !missing(empstat2)"
   ]
  },
  {
   "cell_type": "code",
   "execution_count": null,
   "metadata": {
    "scrolled": true
   },
   "outputs": [],
   "source": [
    "tab empflow if year >= 2004"
   ]
  },
  {
   "cell_type": "code",
   "execution_count": null,
   "metadata": {},
   "outputs": [],
   "source": [
    "tab quarter empflow if year >= 2004"
   ]
  },
  {
   "cell_type": "markdown",
   "metadata": {},
   "source": [
    "## [Task 4](#content)\n",
    "## Minimum wages and labour supply\n",
    "### A Difference-in-difference-approach (DiD)"
   ]
  },
  {
   "cell_type": "markdown",
   "metadata": {},
   "source": [
    "<a name='task4.1'></a>\n",
    "## [Task 4.1](#content)\n",
    "\n",
    "**Massachusetts increased its state level minimum wage from 10\\\\$ to 11\\\\$ per hour in 2017 (effective from 01.01.2017).<br>\n",
    "The neighbouring New Hampshire kept its minimum wage at the federal level, i.e. 7.25\\\\$ per hour.<br>\n",
    "Using the CPS data set, run a DiD analysis to scrutinize the effect of the minimum wage increase on labour supply in Massachusetts (STATECENSUS == 14) relative to New Hampshire (STATECENSUS == 12).**\n",
    "<a name='task3.1'/> <br> <br>\n",
    "<a href=\"https://www.dol.gov/agencies/whd/state/minimum-wage/history\">Historical table  minimum wage per state</a>"
   ]
  },
  {
   "cell_type": "markdown",
   "metadata": {},
   "source": [
    "## Difference-in-Difference (DiD)\n",
    "\n",
    "    \n",
    "|  | Treatment | Control |\n",
    "|-|:-:|:-:|\n",
    "| t=0 | **Y**T0 | **Y**C0 |\n",
    "| t=1 | **Y**T1 | **Y**C1 |\n",
    "\n",
    "<br> <br>\n",
    "Difference before the treatment: <center>**Y**T0 - **Y**C0</center>\n",
    "Difference after the treatment: <center>**Y**T1 - **Y**C1 </center>\n",
    "Difference-in-differences: <center>(**Y**T1 - **Y**C1) - (**Y**T0 - **Y**C0)</center><br><br>\n",
    "\n",
    "The idea behind this: The difference before the treatment captures the *normal* difference, the difference after the treatment captures the normal difference and the causal effect.\n",
    "<br><br>\n",
    "The naive evaluation of the DiD would simply be the equation given above. Note that you could also subtract the treatment effect for the control group from the treatment effect of the treatment group to obtain the same estimator, i.e. <br>\n",
    "(**Y**T1 - **Y**C1) - (**Y**T0 - **Y**C0) = (**Y**T1 - **Y**T0) - (**Y**C1 - **Y**C0)\n"
   ]
  },
  {
   "cell_type": "markdown",
   "metadata": {},
   "source": [
    "For the DiD to be applicable, the commmon trend assumptions have to be met: In absence of any policy difference or treatment, bot groups would have evolved in parrallel.<br>\n",
    "This assumptions is best to be checked graphically by visualising trends in the variable of interest."
   ]
  },
  {
   "cell_type": "markdown",
   "metadata": {},
   "source": [
    "Most basic example:<br>\n",
    "\\\\[ Y_{it} = \\beta_0 + \\beta_1 \\text{TREAT}_i  + \\beta_2 \\text{POST}_t  + + \\beta_{3rDD} ( \\text{TREAT} \\times \\text{POST}) +\\epsilon_{st} \\\\] <br>\n",
    "\\\\( \\text{TREAT} \\dots\\\\) dummy for treatment group <br>\n",
    "\\\\( \\text{POST} \\dots\\\\) dummy for treatment time <br>\n",
    "\\\\( \\text{TREAT} \\times \\text{POST} \\dots\\\\) interaction term, indicates observations treatment group after the treatment"
   ]
  },
  {
   "cell_type": "code",
   "execution_count": null,
   "metadata": {},
   "outputs": [],
   "source": [
    "clear\n",
    "*import delimited \"C:\\Users\\Hannes\\Downloads\\dta02.csv\", asdouble\n",
    "\n",
    "** dta for Stata 11 & 12\n",
    "use \"C:\\Users\\Hannes\\Unibox Rostock\\LSMakro_share (Britta Gehrke)\\Daten\\IPUMS CPS\\dta04_sub.dta\"\n",
    "gen quarter = .m\n",
    "replace quarter = year + 1 if inlist(month, 1, 2, 3)\n",
    "replace quarter = year + 2 if inlist(month, 4, 5, 6)\n",
    "replace quarter = year + 3 if inlist(month, 7, 8, 9)\n",
    "replace quarter = year + 4 if inlist(month, 10, 11, 12)"
   ]
  },
  {
   "cell_type": "code",
   "execution_count": null,
   "metadata": {},
   "outputs": [],
   "source": [
    "numlabel, add\n",
    "tab statecensus"
   ]
  },
  {
   "cell_type": "code",
   "execution_count": null,
   "metadata": {},
   "outputs": [],
   "source": [
    "sum earnweek\n",
    "mvdecode(earnweek), mv(9999.99)\n",
    "sum earnweek"
   ]
  },
  {
   "cell_type": "code",
   "execution_count": null,
   "metadata": {
    "scrolled": true
   },
   "outputs": [],
   "source": [
    "mvdecode(hourwage), mv(999.99)\n",
    "sum hourwage"
   ]
  },
  {
   "cell_type": "markdown",
   "metadata": {},
   "source": [
    "Note that the hourly wage and the weekly income are topcoded for rates resulting in an income of more than 100,000\\\\$ a year. <br>\n",
    "Since EARNWEEK comprises HOURWAGE, we will use EARNWEEK for weekly earnings from the main job. By dividing by the usual hours worked at the main job (UHRSWORK1), we obtain a pseudo hourly wage.<br>\n",
    "We are going to exclude the topcodes from the analysis."
   ]
  },
  {
   "cell_type": "code",
   "execution_count": null,
   "metadata": {},
   "outputs": [],
   "source": [
    "disp \"earnweek:\"\n",
    "tab statecensus if inrange(uhrswork1, 1, 996) & inrange(earnweek, .01, 2884.61) & inlist(statecensus, 12, 14) & inlist(year, 2016, 2017)\n",
    "\n",
    "disp \"\"\n",
    "disp \"hourwage:\"\n",
    "tab statecensus if inrange(uhrswork1, 1, 996) & inrange(hourwage, .01, 99.99) & inlist(statecensus, 12, 14) & inlist(year, 2016, 2017)"
   ]
  },
  {
   "cell_type": "code",
   "execution_count": null,
   "metadata": {
    "scrolled": false
   },
   "outputs": [],
   "source": [
    "tabstat hourwage if inlist(statecensus, 12, 14) & inrange(year, 2016, 2017), by(statecensus) statistics(count, mean, median, min, max)"
   ]
  },
  {
   "cell_type": "code",
   "execution_count": null,
   "metadata": {
    "scrolled": true
   },
   "outputs": [],
   "source": [
    "egen hwmeant = mean(hourwage) if hourwage < 99.99, by(quarter statecensus)\n",
    "\n",
    "gen hwmean12 = .m\n",
    "replace hwmean12 = hwmeant if statecensus == 12\n",
    "\n",
    "gen hwmean14 = .m\n",
    "replace hwmean14 = hwmeant if statecensus == 14"
   ]
  },
  {
   "cell_type": "code",
   "execution_count": null,
   "metadata": {
    "scrolled": false
   },
   "outputs": [],
   "source": [
    "graph twoway line hwmean12 hwmean14 quarter, legend(size(small)) sort"
   ]
  },
  {
   "cell_type": "code",
   "execution_count": null,
   "metadata": {},
   "outputs": [],
   "source": [
    "egen hwmedian = median(hourwage), by(quarter statecensus)\n",
    "\n",
    "gen hwmedian12 = .m\n",
    "replace hwmedian12 = hwmedian if statecensus == 12\n",
    "\n",
    "gen hwmedian14 = .m\n",
    "replace hwmedian14 = hwmedian if statecensus == 14"
   ]
  },
  {
   "cell_type": "code",
   "execution_count": null,
   "metadata": {
    "scrolled": true
   },
   "outputs": [],
   "source": [
    "graph twoway line hwmedian12 hwmedian14 quarter, legend(size(small)) sort"
   ]
  },
  {
   "cell_type": "code",
   "execution_count": null,
   "metadata": {},
   "outputs": [],
   "source": [
    "egen hworkp50 = median(uhrsworkt), by(quarter statecensus)\n",
    "\n",
    "gen hworkp5012 = .m\n",
    "replace hworkp5012 = hworkp50 if statecensus == 12\n",
    "\n",
    "gen hworkp5014 = .m\n",
    "replace hworkp5014 = hworkp50 if statecensus == 14"
   ]
  },
  {
   "cell_type": "code",
   "execution_count": null,
   "metadata": {},
   "outputs": [],
   "source": [
    "graph twoway line hworkp5012 hworkp5014 quarter, legend(size(small)) sort"
   ]
  },
  {
   "cell_type": "markdown",
   "metadata": {},
   "source": [
    "Define the treatment date as well as the treatment group."
   ]
  },
  {
   "cell_type": "code",
   "execution_count": null,
   "metadata": {},
   "outputs": [],
   "source": [
    "gen post14 = 0\n",
    "replace post14 = 1 if year == 2017\n",
    "\n",
    "gen treat14 = 0\n",
    "replace treat14 = 1 if statecensus == 14"
   ]
  },
  {
   "cell_type": "code",
   "execution_count": null,
   "metadata": {
    "scrolled": true
   },
   "outputs": [],
   "source": [
    "reg uhrsworkt i.treat14 i.post14 i.treat14#i.post14 if inlist(statecensus, 12, 14) & inrange(year, 2016, 2017)"
   ]
  },
  {
   "cell_type": "code",
   "execution_count": null,
   "metadata": {},
   "outputs": [],
   "source": [
    "margins i.post14#i.treat14"
   ]
  },
  {
   "cell_type": "code",
   "execution_count": null,
   "metadata": {
    "scrolled": false
   },
   "outputs": [],
   "source": [
    "marginsplot"
   ]
  },
  {
   "cell_type": "markdown",
   "metadata": {},
   "source": [
    "Let us have a look at the extensive margin of labour supply.<br>\n",
    "In a first analysis, let us look at the share of the labour force being employed."
   ]
  },
  {
   "cell_type": "code",
   "execution_count": null,
   "metadata": {},
   "outputs": [],
   "source": [
    "gen employed = 1 if inrange(empstat, 10, 12)\n",
    "replace employed = 0 if inrange(empstat, 20, 22)\n",
    "\n"
   ]
  },
  {
   "cell_type": "code",
   "execution_count": null,
   "metadata": {
    "scrolled": true
   },
   "outputs": [],
   "source": [
    "reg employed i.treat14 i.post14 i.treat14#i.post14 if inlist(statecensus, 12, 14) & inrange(year, 2016, 2017)"
   ]
  },
  {
   "cell_type": "code",
   "execution_count": null,
   "metadata": {},
   "outputs": [],
   "source": [
    "margins i.post14#i.treat14"
   ]
  },
  {
   "cell_type": "code",
   "execution_count": null,
   "metadata": {
    "scrolled": true
   },
   "outputs": [],
   "source": [
    "marginsplot"
   ]
  },
  {
   "cell_type": "markdown",
   "metadata": {},
   "source": [
    "According to our plain analysis, there seems to be a negative effect on employment associated with the increase of the minimum wage in Massachusetts. <br>\n",
    "There are some ways to test the robustness of our analysis results. <br>\n",
    "First, we are going to replace the date of the treatment by a different date."
   ]
  },
  {
   "cell_type": "code",
   "execution_count": null,
   "metadata": {
    "scrolled": true
   },
   "outputs": [],
   "source": [
    "gen post2 = 0\n",
    "replace post2 = 1 if year == 2016\n",
    "reg employed i.treat14 i.post2 i.treat14#i.post2 if inlist(statecensus, 12, 14) & inrange(year, 2015, 2016)"
   ]
  },
  {
   "cell_type": "code",
   "execution_count": null,
   "metadata": {},
   "outputs": [],
   "source": [
    "margins i.post2#i.treat14"
   ]
  },
  {
   "cell_type": "code",
   "execution_count": null,
   "metadata": {
    "scrolled": true
   },
   "outputs": [],
   "source": [
    "marginsplot"
   ]
  },
  {
   "cell_type": "code",
   "execution_count": null,
   "metadata": {},
   "outputs": [],
   "source": [
    "gen post3 = 0\n",
    "replace post3 = 1 if year == 2018\n",
    "reg employed i.treat14 i.post3 i.treat14#i.post3 if inlist(statecensus, 12, 14) & inrange(year, 2017, 2018)"
   ]
  },
  {
   "cell_type": "code",
   "execution_count": null,
   "metadata": {
    "scrolled": false
   },
   "outputs": [],
   "source": [
    "margins i.post3#i.treat14"
   ]
  },
  {
   "cell_type": "code",
   "execution_count": null,
   "metadata": {
    "scrolled": true
   },
   "outputs": [],
   "source": [
    "marginsplot"
   ]
  },
  {
   "cell_type": "markdown",
   "metadata": {},
   "source": [
    "In 2016 Massachusetts increased its state minimum wage level by 1 \\\\$ (9 to 10), whereas kept its minimum wage at 7.25 \\\\$.<br>\n",
    "Our analysis shows no statistical significant effect of the treatment. C.p., we would expect a similiar effect as in our analysis above.<br>\n",
    "A pseudo treatment for 2018, when in fact the minimum wage was not increased in neither of both states, shows no statistical effect, too.\n",
    "As for the increase in minimum wages from 2017 to 2018, our model rather supports the notion of a positive effect of an increase in minimum wages on the extensive labour supply. <br><br>\n",
    "At a first glance and judging from the first robustness test, our results from the initial analysis do not seem to be robust."
   ]
  },
  {
   "cell_type": "code",
   "execution_count": null,
   "metadata": {},
   "outputs": [],
   "source": [
    "drop post2 post3"
   ]
  },
  {
   "cell_type": "markdown",
   "metadata": {},
   "source": [
    "<a name='task4.2'></a>\n",
    "## [Task 4.2](#content)\n",
    "\n",
    "Repeat the analysis above for two or more neighbouring state of your choice for a suitable date.<br>\n",
    "Below you can find another example for a DiD analysis with a dataset already included in Stata."
   ]
  },
  {
   "cell_type": "markdown",
   "metadata": {},
   "source": [
    "### Example (not CPS) "
   ]
  },
  {
   "cell_type": "code",
   "execution_count": null,
   "metadata": {},
   "outputs": [],
   "source": [
    "use jobtrain.dta, clear"
   ]
  },
  {
   "cell_type": "markdown",
   "metadata": {},
   "source": [
    "The dataset contains information on real earnings of workers in the years 1974 and 1976 in thousands of dollars.<br>\n",
    "Workers who participated in a training progarm in 1975 are indicated by the dummy variable train, which we can use as a treatment dummy."
   ]
  },
  {
   "cell_type": "code",
   "execution_count": null,
   "metadata": {},
   "outputs": [],
   "source": [
    "gen postt = 0\n",
    "replace postt = 1 if year == 76\n",
    " \n",
    "reg realearnings i.train i.year76 i.year76#i.train\n",
    "\n",
    "margins i.year76#i.train\n",
    "marginsplot\n"
   ]
  },
  {
   "cell_type": "markdown",
   "metadata": {},
   "source": [
    "## [Task 5](#content)\n",
    "## The effect of maximum duration of unemployment benefits on labor supply\n",
    "## Regression Discontinuity Design"
   ]
  },
  {
   "cell_type": "markdown",
   "metadata": {},
   "source": [
    "<a name='task5.1'></a>\n",
    "## [Task 5.1](#content)\n",
    "\n",
    "In 2017, the maximum duration of unemployment benefits was\n",
    "- 12 weeks for Gerogia & Nevada,\n",
    "- 13 weeks for Missouri,\n",
    "- 14 weeks for Hawaii,\n",
    "- 16 weeks for Kentucky,\n",
    "- 20 weeks for Arizona, Minnesota & South Dakota,\n",
    "- 21 weeks for Indiana,\n",
    "- 28 weeks for Nebraska,\n",
    "- 30 weeks for Maryland\n",
    "\n",
    "and 26 weeks in all other states. <br> <br>\n",
    "Use the complete dataset of IPUMS CPS for 2017.<br>\n",
    "Create a dummy variable indicating an individual being unemployed longer than the maximum duration of benefits."
   ]
  },
  {
   "cell_type": "code",
   "execution_count": null,
   "metadata": {},
   "outputs": [],
   "source": [
    "** dta for Stata 11 & 12\n",
    "use \"C:\\Users\\Hannes\\Unibox Rostock\\Daten\\IPUMS\\CPS\\dta04.dta\", clear\n",
    "keep if year == 2017"
   ]
  },
  {
   "cell_type": "code",
   "execution_count": null,
   "metadata": {
    "scrolled": true
   },
   "outputs": [],
   "source": [
    "numlabel, add\n",
    "tab statecensus"
   ]
  },
  {
   "cell_type": "code",
   "execution_count": null,
   "metadata": {},
   "outputs": [],
   "source": [
    "** maximum duration of unemployment benefits in weeks\n",
    "gen maxui = 26\n",
    "replace maxui = 12 if inlist(statecensus, 58, 88)\n",
    "replace maxui = 13 if statecensus == 43\n",
    "replace maxui = 14 if statecensus == 95\n",
    "replace maxui = 16 if statecensus == 61\n",
    "replace maxui = 20 if inlist(statecensus, 86, 41, 45)\n",
    "replace maxui = 21 if statecensus == 21\n",
    "replace maxui = 28 if statecensus == 46\n",
    "replace maxui = 30 if statecensus == 52\n"
   ]
  },
  {
   "cell_type": "code",
   "execution_count": null,
   "metadata": {
    "scrolled": false
   },
   "outputs": [],
   "source": [
    "tab maxui"
   ]
  },
  {
   "cell_type": "code",
   "execution_count": null,
   "metadata": {
    "scrolled": false
   },
   "outputs": [],
   "source": [
    "** unemployment benefits expired?\n",
    "gen expui = .m\n",
    "replace expui = 0 if durunemp <= maxui & inlist(empstat, 21, 22)\n",
    "replace expui = 1 if durunemp > maxui & inlist(empstat, 21, 22)\n",
    "tab expui"
   ]
  },
  {
   "cell_type": "markdown",
   "metadata": {},
   "source": [
    "<a name='task5.2'></a>\n",
    "## [Task 5.2](#content)\n",
    "\n",
    "Have a look at the sanity of the data at hand.<br>\n",
    "For every individual check the distance in weeks between two consecutive interviews as well as the difference between $durunemp_{t}$ and $durunemp_{t+1}$. What does strike your eye?"
   ]
  },
  {
   "cell_type": "code",
   "execution_count": null,
   "metadata": {
    "scrolled": true
   },
   "outputs": [],
   "source": [
    "numlabel, add\n",
    "tab empstat if !missing(durunemp)"
   ]
  },
  {
   "cell_type": "code",
   "execution_count": null,
   "metadata": {},
   "outputs": [],
   "source": [
    "mvdecode(empstat), mv(0)"
   ]
  },
  {
   "cell_type": "code",
   "execution_count": null,
   "metadata": {
    "scrolled": false
   },
   "outputs": [],
   "source": [
    "tab durunemp"
   ]
  },
  {
   "cell_type": "code",
   "execution_count": null,
   "metadata": {},
   "outputs": [],
   "source": [
    "mvdecode(durunemp), mv(999)"
   ]
  },
  {
   "cell_type": "code",
   "execution_count": null,
   "metadata": {
    "scrolled": false
   },
   "outputs": [],
   "source": [
    "hist durunemp"
   ]
  },
  {
   "cell_type": "markdown",
   "metadata": {},
   "source": [
    "Problem: The majority of individuals are reported several times in the CPS within one year."
   ]
  },
  {
   "cell_type": "code",
   "execution_count": null,
   "metadata": {},
   "outputs": [],
   "source": [
    "** cpsidp occurence per year\n",
    "egen tag = tag(cpsid mish)\n",
    "egen occurence = total(tag), by(cpsid)\n",
    "drop tag\n",
    "tab occurence"
   ]
  },
  {
   "cell_type": "markdown",
   "metadata": {},
   "source": [
    "Let us have a look at how stable the employment status for unemployed individuals is throughout the year 2017."
   ]
  },
  {
   "cell_type": "code",
   "execution_count": null,
   "metadata": {
    "scrolled": false
   },
   "outputs": [],
   "source": [
    "** give next mish for individual\n",
    "bysort cpsidp (mish): gen lead_mish = mish[_n+1]\n",
    "\n",
    "** Employment status of unemployed individuals in the next interview\n",
    "bysort cpsidp (mish): gen empstat_t = empstat[_n+1]\n",
    "replace empstat_t = .m if missing(lead_mish)\n",
    "\n",
    "** Generate a variable for calendar week\n",
    "gen cw = week(mdy(month, 19, year))\n",
    "bysort cpsidp (mish): gen cw_t = cw[_n+1]\n",
    "\n",
    "** duration of unemployment in next interview\n",
    "bysort cpsidp (mish): gen durunemp_t = durunemp[_n+1]"
   ]
  },
  {
   "cell_type": "code",
   "execution_count": null,
   "metadata": {
    "scrolled": true
   },
   "outputs": [],
   "source": [
    "gen diff_cw = cw_t - cw\n",
    "gen diff_du = durunemp_t - durunemp\n",
    "gen diff_cw_du = diff_cw - diff_du\n",
    "gen con_unemp = .m\n",
    "** Does the difference between the differences in durunemp and cw indicate continous unemployment?\n",
    "replace con_unemp = 1 if inrange(diff_du, diff_cw - 1, diff_cw + 1)\n",
    "replace con_unemp = 0 if !inrange(diff_du, diff_cw - 1, diff_cw + 1) & !missing(durunemp)"
   ]
  },
  {
   "cell_type": "markdown",
   "metadata": {},
   "source": [
    "The idea of the snippet above is to check whether individuals who happen to have multiple appearances in the sample in the year 2017 were continuously unemployed during the time in between the interviews.<br>\n",
    "If so, then <br>\n",
    "\\\\[ durunemp_{mish=t+1} - durunemp_{mish=t} \\in [CW_{mish=t+1} - CW_{mish=t} - 1, CW_{mish=t+1} - CW_{mish=t} + 1] \\\\]"
   ]
  },
  {
   "cell_type": "code",
   "execution_count": null,
   "metadata": {},
   "outputs": [],
   "source": [
    "tab con_unemp"
   ]
  },
  {
   "cell_type": "code",
   "execution_count": null,
   "metadata": {
    "scrolled": true
   },
   "outputs": [],
   "source": [
    "tab diff_cw_du mish if con_unemp == 0"
   ]
  },
  {
   "cell_type": "markdown",
   "metadata": {},
   "source": [
    "Interesting finding: While we might argue that a difference of 2 weeks could be due to individuals incorrectly recalling their duration of unemployment in weeks, it is harder to justify a difference of 4 weeks and more similarly.<br>\n",
    "What could be other reasons for that?<br>\n",
    "Did corresponding individuals simply stopped looking for work for some time or did they worked for a brief period?<br>\n",
    "Did we stumbled upon a bug in the dataset?<br>\n",
    "Does the linkage by IPUMS yield false ties?<br>\n",
    "Especially the negative differences do not make sense, since this would mean that the duration of the unemployment increased faster than time passes. We are going to exclude such observations from our analysis, but we will do so with some tolerance."
   ]
  },
  {
   "cell_type": "code",
   "execution_count": null,
   "metadata": {
    "scrolled": true
   },
   "outputs": [],
   "source": [
    "keep if diff_cw_du > -1"
   ]
  },
  {
   "cell_type": "markdown",
   "metadata": {},
   "source": [
    "But how about positive values of *diff_cw_du*? They could imply that an individual was employed in between the interviews. However, this difference would be limited by the maximum interview break length of 8 months."
   ]
  },
  {
   "cell_type": "code",
   "execution_count": null,
   "metadata": {
    "scrolled": true
   },
   "outputs": [],
   "source": [
    "tab diff_du diff_cw if diff_cw_du > 0"
   ]
  },
  {
   "cell_type": "markdown",
   "metadata": {},
   "source": [
    "\\\\[\\text{diff_du} < 0 \\Rightarrow du_{t+1} < du_{t+1} \\\\]\n",
    "This could mean that a person was not unemployed in between both periods.\n",
    "<br> <br>\n",
    "\\\\[\\text{diff_du} > 0 \\Rightarrow du_{t+1} > du_{t+1} \\\\]\n",
    "This is what we would expect to see for continuing unemployment. However, we cannot reject the possibility of breaks from unemployment.<br><br>\n",
    "\\\\[\\text{diff_du} = 0 \\Rightarrow du_{t+1} > du_{t+1} \\\\]\n",
    "This would make sense if \\[du_{t+1}, du_{t+1} <= \\text{diff_cw}\\], because otherwise this would indicate an error in reporting.<br>\n",
    "e.g.<br>\n",
    "$du_{t+1}, du_{t+1} = 3 \\Rightarrow \\text{diff_du} = 0 $ would be fine,<br>\n",
    "$du_{t+1}, du_{t+1} = 33 \\Rightarrow \\text{diff_du} = 0 $ would not. <br><br>\n",
    "\n",
    "We are going to keep the osbervations of unemployed individuals for which\n",
    "\\\\[ durunemp_{mish=t+1} - durunemp_{mish=t} \\leq (cw_{mish=t+1} - cw_{mish=t}) + 1\\\\]\n",
    "\\\\[\\Leftrightarrow \\text{diff_du} \\leq \\text{diff_cw}+1 \\\\] \n",
    "and\n",
    "\\\\[ durunemp_{mish=t+1}, durunemp_{mish=t} \\leq \\text{diff_dw} \\quad \\forall \\quad \\text{diff_du} = 0. \\\\]"
   ]
  },
  {
   "cell_type": "code",
   "execution_count": null,
   "metadata": {},
   "outputs": [],
   "source": [
    "keep if (diff_du ~= 0 & diff_du <= diff_cw + 1) | missing(diff_du) | (diff_du == 0 & durunemp < diff_cw & durunemp_t < diff_cw)"
   ]
  },
  {
   "cell_type": "markdown",
   "metadata": {},
   "source": [
    "If a person managed to switch its employment status away from unemployment in between interview periods after a long time of unemployment, but ends up in unemployment at the time of the next interview then this could lead to\n",
    "\\\\[durunemp_{t+1} \\leq durunemp_{t}. \\\\]\n",
    "This implies\n",
    "\\\\[durunemp_{t+1} - durunemp_{t} \\leq 0, \\\\]\n",
    "so that\n",
    "\\\\[cw_{t+1} - cw_{t} - durunemp_{t+1} + durunemp_{t} \\geq 0. \\\\]\n",
    "diff_cw_du can even exceed diff_cw."
   ]
  },
  {
   "cell_type": "markdown",
   "metadata": {},
   "source": [
    "Let us have a look at the reasons for being unemployed in the next interview month (since we are dealing with leading variables)."
   ]
  },
  {
   "cell_type": "code",
   "execution_count": null,
   "metadata": {
    "scrolled": true
   },
   "outputs": [],
   "source": [
    "bysort cpsidp (mish): gen whyunemp_t = whyunemp[_n+1]\n",
    "tab whyunemp\n",
    "tab whyunemp_t con_unemp"
   ]
  },
  {
   "cell_type": "markdown",
   "metadata": {},
   "source": [
    "We cannot give an answer to the question of why unemployment seems to be discontinuous for most unemployed units with the data at hand.<br>\n",
    "Bear this findings in mind while continuing to work on our problem."
   ]
  },
  {
   "cell_type": "markdown",
   "metadata": {},
   "source": [
    "<a name='task5.3'></a>\n",
    "## [Task 5.3](#content)\n",
    "Create variables indicating whether an individual was employed or unemployed at the next interview.<br>\n",
    "Create another variable indicating whether a person might not have been unemployed between the interviews."
   ]
  },
  {
   "cell_type": "code",
   "execution_count": null,
   "metadata": {},
   "outputs": [],
   "source": [
    "** unemployed in next period?\n",
    "gen unemployed_t = 1 if inlist(empstat_t, 21, 22)\n",
    "replace unemployed_t = 0 if !inlist(empstat_t, 21, 22)\n",
    "\n",
    "** employed in next period?\n",
    "gen employed_t = 0 if !inlist(empstat_t, 10, 12)\n",
    "replace employed_t = 1 if inlist(empstat_t, 10, 12)\n",
    "\n",
    "** unemployed between interviews?\n",
    "gen unemp_bw = .m\n",
    "replace unemp_bw = 1 if unemployed_t == 1\n",
    "replace unemp_bw = 0 if diff_du < diff_cw - 1\n",
    "                                          ** adding some tolerance, so that the durationunemployment\n",
    "                                          ** can deviate up to 2 weeks from the difference in calender weeks"
   ]
  },
  {
   "cell_type": "code",
   "execution_count": null,
   "metadata": {
    "scrolled": false
   },
   "outputs": [],
   "source": [
    "table unemployed_t unemp_bw employed_t, content(freq)"
   ]
  },
  {
   "cell_type": "code",
   "execution_count": null,
   "metadata": {
    "scrolled": false
   },
   "outputs": [],
   "source": [
    "** distribution of unemployed wrt max duration of unemployment in 2017\n",
    "hist durunemp if unemployed_t == 0 | (inlist(empstat, 21, 22) & missing(lead_mish))"
   ]
  },
  {
   "cell_type": "markdown",
   "metadata": {},
   "source": [
    "<a name='task5.4'></a>\n",
    "## [Task 5.4](#content)\n",
    "How many observations of unemployed individuals are still eligible for unemployment benefits?<br>\n",
    "Considering maximum duration of continuous unemployment, how many individuals were still eligible for benefits? "
   ]
  },
  {
   "cell_type": "code",
   "execution_count": null,
   "metadata": {
    "scrolled": false
   },
   "outputs": [],
   "source": [
    "tab expui"
   ]
  },
  {
   "cell_type": "markdown",
   "metadata": {},
   "source": [
    "73.37 % of all observations for unemployed individuals lie within the range of weeks for which unemployment benefits were granted."
   ]
  },
  {
   "cell_type": "markdown",
   "metadata": {},
   "source": [
    "**continuous unemployment**<br>\n",
    "We have been looking into this earlier. A respondent could experience multiple spells of unemployment throughout the survey. We have to find a crude measure for the approximate number of such spells."
   ]
  },
  {
   "cell_type": "code",
   "execution_count": null,
   "metadata": {
    "scrolled": true
   },
   "outputs": [],
   "source": [
    "** break in unemployment\n",
    "bysort cpsidp (mish): gen empstat_y = empstat[_n-1]\n",
    "bysort cpsidp (mish): gen durunemp_y = durunemp[_n-1]\n",
    "bysort cpsidp (mish): gen cw_y = cw[_n-1]"
   ]
  },
  {
   "cell_type": "code",
   "execution_count": null,
   "metadata": {
    "scrolled": true
   },
   "outputs": [],
   "source": [
    "** first occurence in 2017?\n",
    "egen min_mish = min(mish), by(cpsidp)\n",
    "\n",
    "** dummy for new spell of unemployment\n",
    "gen new_u_spell = .m\n",
    "replace new_u_spell = 0 if inlist(empstat_y, 21, 22) & inlist(empstat, 21, 22) & durunemp - durunemp_y >= (cw - cw_y - 1) & durunemp - durunemp_y <= (cw - cw_y + 1)\n",
    "replace new_u_spell = 1 if inlist(empstat, 21, 22) & durunemp - durunemp_y < (cw - cw_y -1)\n",
    "replace new_u_spell = 1 if mish == min_mish & inlist(empstat, 21, 22)\n",
    "replace new_u_spell = 1 if mish > min_mish & !inlist(empstat_y, 21, 22) & inlist(empstat, 21, 22)\n",
    "\n",
    "tab new_u_spell"
   ]
  },
  {
   "cell_type": "code",
   "execution_count": null,
   "metadata": {},
   "outputs": [],
   "source": [
    "drop sum_u_spells\n",
    "**sum_u_spells num_u_spells "
   ]
  },
  {
   "cell_type": "code",
   "execution_count": null,
   "metadata": {
    "scrolled": false
   },
   "outputs": [],
   "source": [
    "egen num_u_spells = total(new_u_spell), by(cpsidp)\n",
    "bysort cpsidp (mish): gen sum_u_spells = sum(new_u_spell)\n",
    "tab sum_u_spells"
   ]
  },
  {
   "cell_type": "code",
   "execution_count": null,
   "metadata": {
    "scrolled": false
   },
   "outputs": [],
   "source": [
    "egen tag_n_spells = tag(cpsidp num_u_spells)\n",
    "tab num_u_spells if tag_n_spells == 1"
   ]
  },
  {
   "cell_type": "markdown",
   "metadata": {},
   "source": [
    "The table above yields the number of individuals per number of unemployment spells in 2017.<br>\n",
    "According to our identification of breaks in unemployment there were 49 individuals that at least reentered the state of unemployment twice. Does this seem to be plausible to you?"
   ]
  },
  {
   "cell_type": "code",
   "execution_count": null,
   "metadata": {
    "scrolled": false
   },
   "outputs": [],
   "source": [
    "tab sum_u_spell num_u_spell if expui == 0"
   ]
  },
  {
   "cell_type": "code",
   "execution_count": null,
   "metadata": {},
   "outputs": [],
   "source": [
    "tab sum_u_spell num_u_spell if expui == 1"
   ]
  },
  {
   "cell_type": "code",
   "execution_count": null,
   "metadata": {},
   "outputs": [],
   "source": [
    "new task create running variable"
   ]
  },
  {
   "cell_type": "code",
   "execution_count": null,
   "metadata": {},
   "outputs": [],
   "source": [
    "** weeks until unemployment benefits expire\n",
    "gen dis_maxui = durunemp - maxui"
   ]
  },
  {
   "cell_type": "code",
   "execution_count": null,
   "metadata": {
    "scrolled": false
   },
   "outputs": [],
   "source": [
    "hist dis_maxui"
   ]
  },
  {
   "cell_type": "code",
   "execution_count": null,
   "metadata": {
    "scrolled": true
   },
   "outputs": [],
   "source": [
    "tab dis_maxui if unemployed_t == 0 | unemp_end == 1"
   ]
  },
  {
   "cell_type": "markdown",
   "metadata": {},
   "source": [
    "~ 75% of unemployed individuals are still eligble for unemployment benefits in their last appearance as unemployed in the survey in 2017 (with regard to the duration of their unemployment)."
   ]
  },
  {
   "cell_type": "code",
   "execution_count": null,
   "metadata": {
    "scrolled": false
   },
   "outputs": [],
   "source": [
    "tab lead_mish if expui == 1"
   ]
  },
  {
   "cell_type": "markdown",
   "metadata": {},
   "source": [
    "We still have to find a way to cope with the gap between the 4th and 5th mish.\n",
    "<br> Since we do not know when exactly an individual found a job between the fourth and fith month in sample, we have to exclude this observations from the analysis.<br>\n",
    "By the difference of the duration of unemployment in mish == 4 and mish == 5 we guess whether a person had a job between the interviews. However, we do not know how long the unemployment spell from mish == 4 lasted and could only rely on the information given in mish == 5.<br>\n",
    "We cannot determine when a job started. However, we can tell (with some uncertainty) whether an unemployment continued or not.  "
   ]
  },
  {
   "cell_type": "code",
   "execution_count": null,
   "metadata": {
    "scrolled": false
   },
   "outputs": [],
   "source": [
    "table lead_mish expui con_unemp if unemployed_t == 1, content(freq)"
   ]
  },
  {
   "cell_type": "markdown",
   "metadata": {},
   "source": [
    "Idea: Let us analyse the probability of an individual being unemployed for x weeks to being unemployed within the next month. Let us further run another analysis scrutinizing the probability of an individua being unemployed for x weeks to take up a job witin the next month (regardless of whehter she still got the job at the next interview).<br>\n",
    "This implies that we have to exclude mish == 4 from the analysis, since there is a break of 8 months between mish == 4 and mish == 5. <br>\n",
    "Furthermmore, there seem to be some cases for which lead_mish - mish > 1, i.e. where there are answers missing for a wave."
   ]
  },
  {
   "cell_type": "code",
   "execution_count": null,
   "metadata": {},
   "outputs": [],
   "source": [
    "gen dis_mish = lead_mish - mish\n",
    "tab dis_mish "
   ]
  },
  {
   "cell_type": "markdown",
   "metadata": {},
   "source": [
    "So we have to exclude another ~ 18,500 observations in total.<br>\n",
    "Instead of filtering appropriately, we are going to exclude all the observations we do not want to look at.<br><br>"
   ]
  },
  {
   "cell_type": "code",
   "execution_count": null,
   "metadata": {},
   "outputs": [],
   "source": [
    "keep if dis_mish == 1 & mish ~= 4"
   ]
  },
  {
   "cell_type": "markdown",
   "metadata": {},
   "source": [
    "How about job that were taken up and were lost again between interviews? <br><br>\n",
    "$durunemp_{mish+1}< cw_{mish+1} - cw_{mish}$ could indicate such an event."
   ]
  },
  {
   "cell_type": "code",
   "execution_count": null,
   "metadata": {},
   "outputs": [],
   "source": []
  },
  {
   "cell_type": "code",
   "execution_count": null,
   "metadata": {
    "scrolled": true
   },
   "outputs": [],
   "source": [
    "** employed between interviews if duration of unemployment is shorter than the time passed between the interviews\n",
    "replace employed_t = 1 if durunemp_t < diff_cw & inlist(empstat, 21, 22)\n",
    "replace employed_t = 0 if  employed_t ~= 1 & inlist(empstat_t, 21, 22) "
   ]
  },
  {
   "cell_type": "code",
   "execution_count": null,
   "metadata": {
    "scrolled": false
   },
   "outputs": [],
   "source": [
    "tab employed_t"
   ]
  },
  {
   "cell_type": "code",
   "execution_count": null,
   "metadata": {
    "scrolled": false
   },
   "outputs": [],
   "source": [
    "table expui unemployed_t employed_t if inlist(empstat, 21, 22), content(freq)"
   ]
  },
  {
   "cell_type": "code",
   "execution_count": null,
   "metadata": {
    "scrolled": true
   },
   "outputs": [],
   "source": [
    "keep if !missing(employed_t)"
   ]
  },
  {
   "cell_type": "code",
   "execution_count": null,
   "metadata": {
    "scrolled": true
   },
   "outputs": [],
   "source": [
    "table expui unemployed_t employed_t if inlist(empstat, 21, 22), content(freq)"
   ]
  },
  {
   "cell_type": "markdown",
   "metadata": {},
   "source": [
    "Now we have to install a package for the RDD.<br>\n",
    "We are going to install the latest version from the default repository."
   ]
  },
  {
   "cell_type": "code",
   "execution_count": null,
   "metadata": {},
   "outputs": [],
   "source": [
    "search rdrobust"
   ]
  },
  {
   "cell_type": "markdown",
   "metadata": {},
   "source": [
    "- What is the running variable?<br>\n",
    "- What determines the threshold?<br>\n",
    "- Which bandwidth are we going to choose?<br>\n",
    "- Do we have a sharp or a fuzzy RD-Design?"
   ]
  },
  {
   "cell_type": "code",
   "execution_count": null,
   "metadata": {},
   "outputs": [],
   "source": [
    "** running variable: weeks to expiration of unemployment benefits\n",
    "gen rv = durunemp - maxui"
   ]
  },
  {
   "cell_type": "code",
   "execution_count": null,
   "metadata": {},
   "outputs": [],
   "source": [
    "** treatment variable: unemloyment benefits expired\n",
    "gen ubex = 0 if rv < 0\n",
    "replace ubex = 1 if rv >= 0"
   ]
  },
  {
   "cell_type": "code",
   "execution_count": null,
   "metadata": {
    "scrolled": false
   },
   "outputs": [],
   "source": [
    "scatter ubex rv, xline(0)"
   ]
  },
  {
   "cell_type": "markdown",
   "metadata": {},
   "source": [
    "Since the treatment is merely a dummy for exceding the limit of the duration of unemployment benefits, we are dealing with a sharp regression discontinuity design.<br>\n",
    "Crossing the threshold perfectly assigns each observation to the treatment group. We cannot observe two different treatment states for one x value."
   ]
  },
  {
   "cell_type": "markdown",
   "metadata": {},
   "source": [
    "## Linear fit"
   ]
  },
  {
   "cell_type": "markdown",
   "metadata": {},
   "source": [
    "The command *rdbwselect* with the specification *bwselect(mserd)* yields an estimate for a mean squared error optimal bandwidth for a linear fit *p(1)*, i.e. the bandwidth that minimizes the MSE.\n",
    "\n",
    "$$MSE(h) = 𝔼 \\left[ ( \\hat{ \\tau_{SRD}}-\\tau_{SRD})^2 \\right] = 𝔼\\left[ \\left( (\\hat{\\mu}_+ - \\mu_+) - (\\hat{\\mu}_- - \\mu_-) \\right)^2 \\right]$$\n",
    "\n",
    "$$h^* = arg \\min_h MSE(h)$$\n",
    "\n",
    "A vivid discussion on the advantages and disadvantages of different bandwidth selecting methods has emerged. It is always good practice to inform yourself on the latest developments with regard to an econometric or other analytical approach before starting to employ a standard model.<br>\n",
    "For the purpose of demonstration, we are going to stick to the textbook."
   ]
  },
  {
   "cell_type": "markdown",
   "metadata": {},
   "source": [
    "The following snippets are more complex than they have to be. This is due to Jupyter not displaying the output of\n",
    "\n",
    "> rdplot y x\n",
    "\n",
    "properly. So I had to use the source code for rdplot. <br><br>\n",
    "\n",
    "You can find information on the package here: <a html='https://rdpackages.github.io/rdrobust/'>https://rdpackages.github.io/rdrobust/</a>."
   ]
  },
  {
   "cell_type": "code",
   "execution_count": null,
   "metadata": {
    "scrolled": true
   },
   "outputs": [],
   "source": [
    "rdbwselect unemployed_t uv, bwselect(mserd) p(1) q(2)"
   ]
  },
  {
   "cell_type": "code",
   "execution_count": null,
   "metadata": {
    "scrolled": false
   },
   "outputs": [],
   "source": [
    "gen tmp_y = unemployed_t if inrange(rv, -7, 7)\n",
    "gen tmp_x = rv if inrange(rv, -7, 7)\n",
    "\n",
    "su tmp_x\n",
    "\n",
    "rdrobust tmp_y tmp_x, bwselect(mserd) p(1) h(7) c(0)"
   ]
  },
  {
   "cell_type": "code",
   "execution_count": null,
   "metadata": {
    "scrolled": false
   },
   "outputs": [],
   "source": [
    "rdplot tmp_y tmp_x, genvars ci(95) p(1) binselect(es) vce(robust)"
   ]
  },
  {
   "cell_type": "code",
   "execution_count": null,
   "metadata": {
    "scrolled": false
   },
   "outputs": [],
   "source": [
    "reg tmp_y tmp_x ubex, robust"
   ]
  },
  {
   "cell_type": "code",
   "execution_count": null,
   "metadata": {},
   "outputs": [],
   "source": [
    "gen rdplot_hat_y_0 = _b[_cons] + (tmp_x * _b[tmp_x])\n",
    "gen rdplot_hat_y_1 = _b[_cons] + (tmp_x * _b[tmp_x]) + (ubex * _b[ubex])"
   ]
  },
  {
   "cell_type": "code",
   "execution_count": null,
   "metadata": {
    "scrolled": false
   },
   "outputs": [],
   "source": [
    "twoway (rcap rdplot_ci_l rdplot_ci_r rdplot_mean_bin, color(gs11)) ///\n",
    "(scatter rdplot_mean_y rdplot_mean_bin, sort msize(small)  mcolor(gs10)) ///\n",
    "(line rdplot_hat_y_0 tmp_x if tmp_x<=0, lcolor(black) sort lwidth(medthin) lpattern(solid)) ///\n",
    "(line rdplot_hat_y_1 tmp_x if tmp_x>=0, lcolor(black) sort lwidth(medthin) lpattern(solid)), ///\n",
    "xline(0, lcolor(black) lwidth(medthin)) xscale(r(-7 7) noextend) xlabel(-7(1)7) /// \n",
    "legend(cols(2) order(1 \"Sample average within bin\" 2 \"linear fit\" )) title(\"Regression function fit\", color(gs0)) "
   ]
  },
  {
   "cell_type": "markdown",
   "metadata": {},
   "source": [
    "### Polynomial fit of order 2"
   ]
  },
  {
   "cell_type": "code",
   "execution_count": null,
   "metadata": {
    "scrolled": true
   },
   "outputs": [],
   "source": [
    "gen tmp_x2 = rv * rv if inrange(rv, -7, 7)\n",
    "reg tmp_y tmp_x tmp_x2 ubex, robust "
   ]
  },
  {
   "cell_type": "code",
   "execution_count": null,
   "metadata": {},
   "outputs": [],
   "source": [
    "gen rdplot_hat_y_2 = _b[_cons] + (tmp_x * _b[tmp_x]) + (tmp_x2 * _b[tmp_x2])\n",
    "gen rdplot_hat_y_3 = _b[_cons] + (tmp_x * _b[tmp_x]) + (tmp_x2 * _b[tmp_x2]) + (ubex * _b[ubex])"
   ]
  },
  {
   "cell_type": "code",
   "execution_count": null,
   "metadata": {
    "scrolled": true
   },
   "outputs": [],
   "source": [
    "twoway (rcap rdplot_ci_l rdplot_ci_r rdplot_mean_bin, color(gs11)) ///\n",
    "(scatter rdplot_mean_y rdplot_mean_bin, sort msize(small)  mcolor(gs10)) ///\n",
    "(line rdplot_hat_y_2 tmp_x if tmp_x<=0, lcolor(red) sort lwidth(medthin) lpattern(solid)) ///\n",
    "(line rdplot_hat_y_3 tmp_x if tmp_x>=0, lcolor(red) sort lwidth(medthin) lpattern(solid)) ///\n",
    "(line rdplot_hat_y_0 tmp_x if tmp_x<=0, lcolor(black) sort lwidth(medthin) lpattern(solid)) ///\n",
    "(line rdplot_hat_y_1 tmp_x if tmp_x>=0, lcolor(black) sort lwidth(medthin) lpattern(solid)), ///\n",
    "xline(0, lcolor(black) lwidth(medthin)) xscale(r(-7 7) noextend) xlabel(-7(1)7) /// \n",
    "legend(cols(2) order(1 \"Sample average within bin\" 2 \"linear fit\" )) title(\"Regression function fit\", color(gs0)) "
   ]
  },
  {
   "cell_type": "markdown",
   "metadata": {},
   "source": [
    "### Polynomial fit of order 3"
   ]
  },
  {
   "cell_type": "code",
   "execution_count": null,
   "metadata": {},
   "outputs": [],
   "source": [
    "gen tmp_x3 = tmp_x2 * rv if inrange(rv, -7, 7)\n",
    "reg tmp_y tmp_x tmp_x2 tmp_x3 ubex, robust\n",
    "gen rdplot_hat_y_4 = _b[_cons] + (tmp_x * _b[tmp_x]) + (tmp_x2 * _b[tmp_x2])\n",
    "gen rdplot_hat_y_5 = _b[_cons] + (tmp_x * _b[tmp_x]) + (tmp_x2 * _b[tmp_x2]) + (ubex * _b[ubex])"
   ]
  },
  {
   "cell_type": "code",
   "execution_count": null,
   "metadata": {},
   "outputs": [],
   "source": [
    "twoway (rcap rdplot_ci_l rdplot_ci_r rdplot_mean_bin, color(gs11)) ///\n",
    "(scatter rdplot_mean_y rdplot_mean_bin, sort msize(small)  mcolor(gs10)) ///\n",
    "(line rdplot_hat_y_4 tmp_x if tmp_x<=0, lcolor(green) sort lwidth(medthin) lpattern(solid)) ///\n",
    "(line rdplot_hat_y_5 tmp_x if tmp_x>=0, lcolor(green) sort lwidth(medthin) lpattern(solid)) ///\n",
    "(line rdplot_hat_y_2 tmp_x if tmp_x<=0, lcolor(red) sort lwidth(medthin) lpattern(solid)) ///\n",
    "(line rdplot_hat_y_3 tmp_x if tmp_x>=0, lcolor(red) sort lwidth(medthin) lpattern(solid)) ///\n",
    "(line rdplot_hat_y_0 tmp_x if tmp_x<=0, lcolor(black) sort lwidth(medthin) lpattern(solid)) ///\n",
    "(line rdplot_hat_y_1 tmp_x if tmp_x>=0, lcolor(black) sort lwidth(medthin) lpattern(solid)), ///\n",
    "xline(0, lcolor(black) lwidth(medthin)) xscale(r(-7 7) noextend) xlabel(-7(1)7) /// \n",
    "legend(cols(2) order(1 \"Sample average within bin\" 2 \"linear fit\" )) title(\"Regression function fit\", color(gs0)) "
   ]
  },
  {
   "cell_type": "code",
   "execution_count": null,
   "metadata": {
    "scrolled": true
   },
   "outputs": [],
   "source": [
    "** which variables does our set include by now?\n",
    "ds"
   ]
  },
  {
   "cell_type": "markdown",
   "metadata": {},
   "source": [
    "**Why did I use the predictions of y from a regression to plot the lines?**<br>\n",
    "As I said, I am not able to render the output of *rdplot* inside this notebook properly.<br>\n",
    "The actual fitted lines of *rdplot* are slightly different to my predictions of y due to differences in the variance-covariance estimation employed in both the regression in *rdplot* and my *reg y x, robust*.<br>"
   ]
  }
 ],
 "metadata": {
  "celltoolbar": "Slideshow",
  "kernelspec": {
   "display_name": "Stata",
   "language": "stata",
   "name": "stata"
  },
  "language_info": {
   "codemirror_mode": "stata",
   "file_extension": ".do",
   "mimetype": "text/x-stata",
   "name": "stata",
   "version": "15.1"
  },
  "widgets": {
   "application/vnd.jupyter.widget-state+json": {
    "state": {},
    "version_major": 2,
    "version_minor": 0
   }
  }
 },
 "nbformat": 4,
 "nbformat_minor": 4
}
